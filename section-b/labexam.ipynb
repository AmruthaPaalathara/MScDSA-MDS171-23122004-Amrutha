{
 "cells": [
  {
   "cell_type": "markdown",
   "metadata": {},
   "source": [
    "create a class , collect customer name,phone no,location,model id. search for a particular item. append it. found or not"
   ]
  },
  {
   "cell_type": "code",
   "execution_count": null,
   "metadata": {},
   "outputs": [
    {
     "name": "stdout",
     "output_type": "stream",
     "text": [
      "1.New Customer\n",
      "2.Search for the item\n",
      "3.Exit\n"
     ]
    },
    {
     "ename": "",
     "evalue": "",
     "output_type": "error",
     "traceback": [
      "\u001b[1;31mThe Kernel crashed while executing code in the the current cell or a previous cell. Please review the code in the cell(s) to identify a possible cause of the failure. Click <a href='https://aka.ms/vscodeJupyterKernelCrash'>here</a> for more info. View Jupyter <a href='command:jupyter.viewOutput'>log</a> for further details."
     ]
    }
   ],
   "source": [
    "\n",
    "\n",
    "        "
   ]
  },
  {
   "cell_type": "code",
   "execution_count": 1,
   "metadata": {},
   "outputs": [
    {
     "name": "stdout",
     "output_type": "stream",
     "text": [
      "1.New Customer\n",
      "2.Search for the item\n",
      "3.Exit\n",
      "{'dfds': {'Phone': 5654, 'location': 'fwf', 'model id': '6'}}\n",
      "1.New Customer\n",
      "2.Search for the item\n",
      "3.Exit\n"
     ]
    },
    {
     "ename": "",
     "evalue": "",
     "output_type": "error",
     "traceback": [
      "\u001b[1;31mThe Kernel crashed while executing code in the the current cell or a previous cell. Please review the code in the cell(s) to identify a possible cause of the failure. Click <a href='https://aka.ms/vscodeJupyterKernelCrash'>here</a> for more info. View Jupyter <a href='command:jupyter.viewOutput'>log</a> for further details."
     ]
    }
   ],
   "source": [
    "class Customername:\n",
    "    def newcustomer(self,name,phone,location,modelid):\n",
    "        self.missing={}\n",
    "        # self.name=name\n",
    "        # self.phone=phone\n",
    "        # self.location=location\n",
    "        # self.modelid=modelid\n",
    "        #self.missing[\"Name\"]=name\n",
    "        details={}\n",
    "        details[\"Phone\"]=phone\n",
    "        details[\"location\"]=location\n",
    "        details[\"model id\"]=modelid\n",
    "        self.missing[name]=details\n",
    "        print(self.missing)\n",
    "\n",
    "    def searchcustomer(self):\n",
    "        for person in self.missing.keys():\n",
    "              flag = True\n",
    "              if person ==username:\n",
    "                    print(self.missing[person][\"location\"])\n",
    "              else: \n",
    "                    flag = False\n",
    "        if flag == False:\n",
    "             print(\"Search not found\")\n",
    "\n",
    "searching=Customername()\n",
    "while True:\n",
    "    print(\"1.New Customer\")\n",
    "    print(\"2.Search for the item\")\n",
    "    print(\"3.Exit\")\n",
    "    userinput=int(input(\"Enter the decision of the customer: \"))\n",
    "    if userinput==1:\n",
    "        name=input(\"Enter the name of the customer: \")\n",
    "        phone=int(input(\"Enter the phone number of the customer: \"))\n",
    "        location=input(\"Enter the location of the customer: \")\n",
    "        modelid=input(\"Enter the model id of the item: \")\n",
    "        searching.newcustomer(name,phone,location,modelid)\n",
    "    elif userinput==2:\n",
    "        username=input(\"Enter the name of the customer to be searched: \")\n",
    "        searching.searchcustomer()\n",
    "    elif userinput==3:\n",
    "        exit()\n",
    "        break\n",
    "    else:\n",
    "        print(\"Invalid choice\")"
   ]
  },
  {
   "cell_type": "code",
   "execution_count": null,
   "metadata": {},
   "outputs": [],
   "source": [
    "class Sportmart:\n",
    "    def __init__(self):\n",
    "        self.inventory={}\n",
    "        self.order={}\n",
    "        self.new={}\n",
    "\n",
    "    def createinventory(self,ProductID,ProductName,Quantity,Price):\n",
    "        temp={\n",
    "            \"Productid\":ProductID,\n",
    "            \"Product name\":ProductName,\n",
    "            \"Quantity\":Quantity,\n",
    "            \"Price\":Price\n",
    "        }\n",
    "        self.inventory[ProductID]=temp\n",
    "\n",
    "    def createorder(self,OrderID,ProductID,Quantity,Price):\n",
    "        temp={\n",
    "            \"OrderID\":OrderID,\n",
    "            \"ProductID\":ProductID,\n",
    "            \"Quantity\":Quantity,\n",
    "            \"Price\":Price\n",
    "        }\n",
    "        self.order[ProductID]=temp\n",
    "\n",
    "    def addorder(self,OrderID,ProductID,Quantity,Price):\n",
    "        self.new={\n",
    "            \"orderid\":OrderID,\n",
    "            \"productid\":ProductID,\n",
    "            \"quantity\":Quantity,\n",
    "            \"price\":Price\n",
    "        }\n",
    "\n",
    "    def search(self,item):\n",
    "        if item in self.order:\n",
    "            print(\"item exist\")\n",
    "        else:\n",
    "            print(\"item not exist\")\n",
    "\n",
    "\n",
    "    def printoinventory(self):\n",
    "        print(self.inventory)\n",
    "\n",
    "    def printorder(self):\n",
    "        print(self.order)\n",
    "\n",
    "ob=Sportmart()\n",
    "\n",
    "\n",
    "\n"
   ]
  }
 ],
 "metadata": {
  "kernelspec": {
   "display_name": "Python 3",
   "language": "python",
   "name": "python3"
  },
  "language_info": {
   "codemirror_mode": {
    "name": "ipython",
    "version": 3
   },
   "file_extension": ".py",
   "mimetype": "text/x-python",
   "name": "python",
   "nbconvert_exporter": "python",
   "pygments_lexer": "ipython3",
   "version": "3.10.11"
  }
 },
 "nbformat": 4,
 "nbformat_minor": 2
}
