{
 "cells": [
  {
   "cell_type": "markdown",
   "metadata": {},
   "source": [
    "\n",
    "using the expense tracker class continue with the task:\n",
    "Create a CSV File for Expense/Income. Load the CSV File and populate the dictionary of the expense tracker find the total expense and income.\n",
    "\n",
    "Additional Task:\n",
    "Using the concept of menu driven programming, show the menu option to add new transaction[expense/income]. export the updated dictionary to the file"
   ]
  },
  {
   "cell_type": "code",
   "execution_count": 1,
   "metadata": {},
   "outputs": [
    {
     "name": "stdout",
     "output_type": "stream",
     "text": [
      "1.Add New Transaction\n",
      "2.Calculate Total Income and Expense\n",
      "3.Exit\n",
      "1.Add New Transaction\n",
      "2.Calculate Total Income and Expense\n",
      "3.Exit\n"
     ]
    },
    {
     "ename": "ValueError",
     "evalue": "invalid literal for int() with base 10: 'Cost'",
     "output_type": "error",
     "traceback": [
      "\u001b[1;31m---------------------------------------------------------------------------\u001b[0m",
      "\u001b[1;31mValueError\u001b[0m                                Traceback (most recent call last)",
      "\u001b[1;32md:\\PG Trimester1\\Github\\MScDSA-MDS171-23122004-Amrutha\\Lab09\\lab09.ipynb Cell 2\u001b[0m line \u001b[0;36m4\n\u001b[0;32m     <a href='vscode-notebook-cell:/d%3A/PG%20Trimester1/Github/MScDSA-MDS171-23122004-Amrutha/Lab09/lab09.ipynb#W1sZmlsZQ%3D%3D?line=46'>47</a>\u001b[0m     order\u001b[39m.\u001b[39maddTransaction(\u001b[39mtype\u001b[39m,category,amount,description,date)\n\u001b[0;32m     <a href='vscode-notebook-cell:/d%3A/PG%20Trimester1/Github/MScDSA-MDS171-23122004-Amrutha/Lab09/lab09.ipynb#W1sZmlsZQ%3D%3D?line=47'>48</a>\u001b[0m \u001b[39melif\u001b[39;00m choice\u001b[39m==\u001b[39m\u001b[39m2\u001b[39m:\n\u001b[1;32m---> <a href='vscode-notebook-cell:/d%3A/PG%20Trimester1/Github/MScDSA-MDS171-23122004-Amrutha/Lab09/lab09.ipynb#W1sZmlsZQ%3D%3D?line=48'>49</a>\u001b[0m     totalIncome,totalExpense\u001b[39m=\u001b[39morder\u001b[39m.\u001b[39;49mcalculateTotal()\n\u001b[0;32m     <a href='vscode-notebook-cell:/d%3A/PG%20Trimester1/Github/MScDSA-MDS171-23122004-Amrutha/Lab09/lab09.ipynb#W1sZmlsZQ%3D%3D?line=49'>50</a>\u001b[0m     \u001b[39mprint\u001b[39m(\u001b[39m\"\u001b[39m\u001b[39mTotal Income=\u001b[39m\u001b[39m\"\u001b[39m,totalIncome,\u001b[39m\"\u001b[39m\u001b[39m\\n\u001b[39;00m\u001b[39mTotal Expense=\u001b[39m\u001b[39m\"\u001b[39m,totalExpense)\n\u001b[0;32m     <a href='vscode-notebook-cell:/d%3A/PG%20Trimester1/Github/MScDSA-MDS171-23122004-Amrutha/Lab09/lab09.ipynb#W1sZmlsZQ%3D%3D?line=50'>51</a>\u001b[0m     order\u001b[39m.\u001b[39mwriteTransactions()\n",
      "\u001b[1;32md:\\PG Trimester1\\Github\\MScDSA-MDS171-23122004-Amrutha\\Lab09\\lab09.ipynb Cell 2\u001b[0m line \u001b[0;36m1\n\u001b[0;32m     <a href='vscode-notebook-cell:/d%3A/PG%20Trimester1/Github/MScDSA-MDS171-23122004-Amrutha/Lab09/lab09.ipynb#W1sZmlsZQ%3D%3D?line=16'>17</a>\u001b[0m         totalIncome\u001b[39m+\u001b[39m\u001b[39m=\u001b[39m\u001b[39mint\u001b[39m(i[\u001b[39m\"\u001b[39m\u001b[39mamount\u001b[39m\u001b[39m\"\u001b[39m])\n\u001b[0;32m     <a href='vscode-notebook-cell:/d%3A/PG%20Trimester1/Github/MScDSA-MDS171-23122004-Amrutha/Lab09/lab09.ipynb#W1sZmlsZQ%3D%3D?line=17'>18</a>\u001b[0m     \u001b[39melse\u001b[39;00m:\n\u001b[1;32m---> <a href='vscode-notebook-cell:/d%3A/PG%20Trimester1/Github/MScDSA-MDS171-23122004-Amrutha/Lab09/lab09.ipynb#W1sZmlsZQ%3D%3D?line=18'>19</a>\u001b[0m         totalExpense\u001b[39m+\u001b[39m\u001b[39m=\u001b[39m\u001b[39mint\u001b[39;49m(i[\u001b[39m\"\u001b[39;49m\u001b[39mamount\u001b[39;49m\u001b[39m\"\u001b[39;49m])\n\u001b[0;32m     <a href='vscode-notebook-cell:/d%3A/PG%20Trimester1/Github/MScDSA-MDS171-23122004-Amrutha/Lab09/lab09.ipynb#W1sZmlsZQ%3D%3D?line=19'>20</a>\u001b[0m \u001b[39mreturn\u001b[39;00m totalIncome,totalExpense\n",
      "\u001b[1;31mValueError\u001b[0m: invalid literal for int() with base 10: 'Cost'"
     ]
    }
   ],
   "source": [
    "class expenseTracker: #Class Declaration\n",
    "    def __init__(self):\n",
    "        self.transactionDetails={\"details\":[]} #Dictionary to Store transaction\n",
    "\n",
    "    def retrieveTransactions(self): #Function to retrieve data from file and save it in dictionary\n",
    "        for i in open(\"BudgetTracker.csv\",\"r+\").readlines():\n",
    "            line=i.split(\",\")\n",
    "            if line[1]!=\"Expense Category\":  #\n",
    "                transaction={\"type\":line[0],\"category\":line[1],\"amount\":line[2],\"description\":line[3],\"date\":line[4]} #Saving data in dictionary\n",
    "                self.transactionDetails[\"details\"].append(transaction)\n",
    "\n",
    "    def calculateTotal(self): #Function to calculate total income and expense from dictionary\n",
    "        totalIncome=0\n",
    "        totalExpense=0\n",
    "        for i in self.transactionDetails[\"details\"]:\n",
    "            if i[\"type\"]==\"Income\":\n",
    "                totalIncome+=int(i[\"amount\"])\n",
    "            else:\n",
    "                totalExpense+=int(i[\"amount\"])\n",
    "        return totalIncome,totalExpense\n",
    "    \n",
    "    def addTransaction(self,type,category,amount,description,date): #Function to add more transaction lines to dictionary\n",
    "        transaction={\"type\":type,\"category\":category,\"amount\":amount,\"description\":description,\"date\":date}\n",
    "        self.transactionDetails[\"details\"].append(transaction)\n",
    "    \n",
    "    def writeTransactions(self): #Function to write data from dictionary to file\n",
    "        file=open(\"BudgetTracker.csv\",\"w+\")\n",
    "        file.write(\"Type,Expense Category,Amount,Description,Date\\n\")\n",
    "        for i in self.transactionDetails[\"details\"]:\n",
    "            date=str(i[\"date\"]).strip()\n",
    "            file.write(i[\"type\"]+\",\"+i[\"category\"]+\",\"+i[\"amount\"]+\",\"+i[\"description\"]+\",\"+date+\"\\n\")\n",
    "        file.close()\n",
    "\n",
    "order=expenseTracker() #Object Initiation\n",
    "order.retrieveTransactions()\n",
    "while True:\n",
    "    print(\"1.Add New Transaction\")\n",
    "    print(\"2.Calculate Total Income and Expense\")\n",
    "    print(\"3.Exit\")\n",
    "    choice=int(input(\"Select your action:\"))\n",
    "    if choice==1:\n",
    "        type=input(\"Enter the type of transaction (Income/Expense):\")\n",
    "        category=input(\"Enter the category:\")\n",
    "        amount=input(\"Enter the amount:\")\n",
    "        description=input(\"Enter the description of transaction:\")\n",
    "        date=input(\"Enter the date mm/dd/yyyy:\")\n",
    "        order.addTransaction(type,category,amount,description,date)\n",
    "    elif choice==2:\n",
    "        totalIncome,totalExpense=order.calculateTotal()\n",
    "        print(\"Total Income=\",totalIncome,\"\\nTotal Expense=\",totalExpense)\n",
    "        order.writeTransactions()\n",
    "    elif choice==3:\n",
    "        order.writeTransactions()\n",
    "        exit()"
   ]
  }
 ],
 "metadata": {
  "kernelspec": {
   "display_name": "Python 3",
   "language": "python",
   "name": "python3"
  },
  "language_info": {
   "codemirror_mode": {
    "name": "ipython",
    "version": 3
   },
   "file_extension": ".py",
   "mimetype": "text/x-python",
   "name": "python",
   "nbconvert_exporter": "python",
   "pygments_lexer": "ipython3",
   "version": "3.10.11"
  },
  "orig_nbformat": 4
 },
 "nbformat": 4,
 "nbformat_minor": 2
}
