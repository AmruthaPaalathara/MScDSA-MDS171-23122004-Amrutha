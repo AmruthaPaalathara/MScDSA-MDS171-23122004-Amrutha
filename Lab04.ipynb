{
 "cells": [
  {
   "cell_type": "markdown",
   "metadata": {},
   "source": [
    "A Taste of Success: The Restaurant Management System"
   ]
  },
  {
   "cell_type": "code",
   "execution_count": 1,
   "metadata": {},
   "outputs": [
    {
     "name": "stdout",
     "output_type": "stream",
     "text": [
      "Enter the letter for exiting\n"
     ]
    }
   ],
   "source": [
    "#printing the orders\n",
    "print(\"Enter the letter for exiting\")\n",
    "def RMS(name,phone,dish,quantity):\n",
    "    dish_details=open(\"RMS.txt\",\"a+\")\n",
    "    dish_details.write(\"\\n Enter the name of the customer: \"+name)\n",
    "    dish_details.write(\"\\n Enter the phone number of the customer: \"+phone)\n",
    "    dish_details.write(\"\\n Enter the dish the customer ordered: \"+dish)\n",
    "    dish_details.write(\"\\n Enter the quantity of the food the customer bought: \"+str(quantity))\n",
    "    dish_details.close()\n",
    "    return True"
   ]
  },
  {
   "cell_type": "code",
   "execution_count": 2,
   "metadata": {},
   "outputs": [
    {
     "name": "stdout",
     "output_type": "stream",
     "text": [
      "<function RMS at 0x000001D7861EC700>\n"
     ]
    }
   ],
   "source": [
    "name=input(\"Enter the name of the customer: \")\n",
    "phone=input(\"Enter the phone number: \")\n",
    "dish=input(\"Enter the dish name :\")\n",
    "quantity=int(input(\"Enter the quantity of the dish\"))\n",
    "RMS(name,phone,dish,quantity)\n",
    "print(RMS)\n"
   ]
  },
  {
   "cell_type": "code",
   "execution_count": null,
   "metadata": {},
   "outputs": [],
   "source": [
    "\n"
   ]
  },
  {
   "cell_type": "code",
   "execution_count": null,
   "metadata": {},
   "outputs": [],
   "source": []
  }
 ],
 "metadata": {
  "kernelspec": {
   "display_name": "Python 3",
   "language": "python",
   "name": "python3"
  },
  "language_info": {
   "codemirror_mode": {
    "name": "ipython",
    "version": 3
   },
   "file_extension": ".py",
   "mimetype": "text/x-python",
   "name": "python",
   "nbconvert_exporter": "python",
   "pygments_lexer": "ipython3",
   "version": "3.10.11"
  },
  "orig_nbformat": 4
 },
 "nbformat": 4,
 "nbformat_minor": 2
}
