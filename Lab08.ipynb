{
 "cells": [
  {
   "cell_type": "code",
   "execution_count": 2,
   "metadata": {},
   "outputs": [
    {
     "ename": "TypeError",
     "evalue": "can't multiply sequence by non-int of type 'list'",
     "output_type": "error",
     "traceback": [
      "\u001b[1;31m---------------------------------------------------------------------------\u001b[0m",
      "\u001b[1;31mTypeError\u001b[0m                                 Traceback (most recent call last)",
      "\u001b[1;32md:\\Github\\MScDSA-MDS171-23122004-Amrutha\\Lab05\\Lab08.ipynb Cell 1\u001b[0m line \u001b[0;36m3\n\u001b[0;32m      <a href='vscode-notebook-cell:/d%3A/Github/MScDSA-MDS171-23122004-Amrutha/Lab05/Lab08.ipynb#W0sZmlsZQ%3D%3D?line=0'>1</a>\u001b[0m matrix1\u001b[39m=\u001b[39m[]\n\u001b[0;32m      <a href='vscode-notebook-cell:/d%3A/Github/MScDSA-MDS171-23122004-Amrutha/Lab05/Lab08.ipynb#W0sZmlsZQ%3D%3D?line=1'>2</a>\u001b[0m matrix2\u001b[39m=\u001b[39m[]\n\u001b[1;32m----> <a href='vscode-notebook-cell:/d%3A/Github/MScDSA-MDS171-23122004-Amrutha/Lab05/Lab08.ipynb#W0sZmlsZQ%3D%3D?line=2'>3</a>\u001b[0m matrix\u001b[39m=\u001b[39mmatrix1\u001b[39m*\u001b[39;49mmatrix2\n",
      "\u001b[1;31mTypeError\u001b[0m: can't multiply sequence by non-int of type 'list'"
     ]
    }
   ],
   "source": [
    "r1=int(input(\"No.of rows in matrix1= \"))\n",
    "c1=int(input(\"No.of columns in matrix1= \"))\n",
    "r2=int(input(\"No.of rows in matrix2= \"))\n",
    "c2=int(input(\"No.of column in matrix2= \"))\n",
    "matrix1=[]\n"
   ]
  },
  {
   "cell_type": "code",
   "execution_count": null,
   "metadata": {},
   "outputs": [],
   "source": [
    "Matrix={}\n",
    "r1=int(input(\"Enter the number of rows in matrix1: \"))\n",
    "c1=int(input(\"Enter the number of columns in matrix1: \"))\n",
    "r2=int(input(\"Enter the number of rows of matrix2: \"))\n",
    "c2=int(input(\"Enter the number of columns in matrix2: \"))\n",
    "class matrix:\n",
    "    def r_matrix():\n",
    "        if c1==r2:\n",
    "            print(\"Matrix multiplication is possible...!\")\n",
    "            \n",
    "        else:\n",
    "            print(\"Matrix multiplication is not possible...!\")"
   ]
  },
  {
   "cell_type": "code",
   "execution_count": null,
   "metadata": {},
   "outputs": [],
   "source": [
    "list=[]"
   ]
  },
  {
   "cell_type": "code",
   "execution_count": 1,
   "metadata": {},
   "outputs": [
    {
     "ename": "NameError",
     "evalue": "name 'matrix1' is not defined",
     "output_type": "error",
     "traceback": [
      "\u001b[1;31m---------------------------------------------------------------------------\u001b[0m",
      "\u001b[1;31mNameError\u001b[0m                                 Traceback (most recent call last)",
      "\u001b[1;32md:\\Github\\MScDSA-MDS171-23122004-Amrutha\\Lab05\\Lab08.ipynb Cell 4\u001b[0m line \u001b[0;36m9\n\u001b[0;32m      <a href='vscode-notebook-cell:/d%3A/Github/MScDSA-MDS171-23122004-Amrutha/Lab05/Lab08.ipynb#W3sZmlsZQ%3D%3D?line=6'>7</a>\u001b[0m         \u001b[39mprint\u001b[39m(matrix1)\n\u001b[0;32m      <a href='vscode-notebook-cell:/d%3A/Github/MScDSA-MDS171-23122004-Amrutha/Lab05/Lab08.ipynb#W3sZmlsZQ%3D%3D?line=7'>8</a>\u001b[0m         \u001b[39mprint\u001b[39m(matrix2)\n\u001b[1;32m----> <a href='vscode-notebook-cell:/d%3A/Github/MScDSA-MDS171-23122004-Amrutha/Lab05/Lab08.ipynb#W3sZmlsZQ%3D%3D?line=8'>9</a>\u001b[0m processing()\n",
      "\u001b[1;32md:\\Github\\MScDSA-MDS171-23122004-Amrutha\\Lab05\\Lab08.ipynb Cell 4\u001b[0m line \u001b[0;36m5\n\u001b[0;32m      <a href='vscode-notebook-cell:/d%3A/Github/MScDSA-MDS171-23122004-Amrutha/Lab05/Lab08.ipynb#W3sZmlsZQ%3D%3D?line=2'>3</a>\u001b[0m m\u001b[39m=\u001b[39m\u001b[39mint\u001b[39m(\u001b[39minput\u001b[39m(\u001b[39m\"\u001b[39m\u001b[39mEnter the values of the 2nd matrix: \u001b[39m\u001b[39m\"\u001b[39m))\n\u001b[0;32m      <a href='vscode-notebook-cell:/d%3A/Github/MScDSA-MDS171-23122004-Amrutha/Lab05/Lab08.ipynb#W3sZmlsZQ%3D%3D?line=3'>4</a>\u001b[0m \u001b[39mfor\u001b[39;00m i \u001b[39min\u001b[39;00m \u001b[39mrange\u001b[39m(n):\n\u001b[1;32m----> <a href='vscode-notebook-cell:/d%3A/Github/MScDSA-MDS171-23122004-Amrutha/Lab05/Lab08.ipynb#W3sZmlsZQ%3D%3D?line=4'>5</a>\u001b[0m     matrix1\u001b[39m.\u001b[39mappend(n)\n\u001b[0;32m      <a href='vscode-notebook-cell:/d%3A/Github/MScDSA-MDS171-23122004-Amrutha/Lab05/Lab08.ipynb#W3sZmlsZQ%3D%3D?line=5'>6</a>\u001b[0m     matrix2\u001b[39m.\u001b[39mappend(m)\n\u001b[0;32m      <a href='vscode-notebook-cell:/d%3A/Github/MScDSA-MDS171-23122004-Amrutha/Lab05/Lab08.ipynb#W3sZmlsZQ%3D%3D?line=6'>7</a>\u001b[0m     \u001b[39mprint\u001b[39m(matrix1)\n",
      "\u001b[1;31mNameError\u001b[0m: name 'matrix1' is not defined"
     ]
    }
   ],
   "source": [
    "def processing():\n",
    "    n=int(input(\"Enter the values of the 1st matrix: \"))\n",
    "    m=int(input(\"Enter the values of the 2nd matrix: \"))\n",
    "    for i in range(n):\n",
    "        matrix1.append(n)\n",
    "        matrix2.append(m)\n",
    "        print(matrix1)\n",
    "        print(matrix2)\n",
    "processing()"
   ]
  },
  {
   "cell_type": "code",
   "execution_count": null,
   "metadata": {},
   "outputs": [],
   "source": []
  }
 ],
 "metadata": {
  "kernelspec": {
   "display_name": "Python 3",
   "language": "python",
   "name": "python3"
  },
  "language_info": {
   "codemirror_mode": {
    "name": "ipython",
    "version": 3
   },
   "file_extension": ".py",
   "mimetype": "text/x-python",
   "name": "python",
   "nbconvert_exporter": "python",
   "pygments_lexer": "ipython3",
   "version": "3.10.11"
  },
  "orig_nbformat": 4
 },
 "nbformat": 4,
 "nbformat_minor": 2
}
