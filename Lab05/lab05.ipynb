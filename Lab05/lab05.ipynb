{
 "cells": [
  {
   "cell_type": "code",
   "execution_count": 5,
   "metadata": {},
   "outputs": [],
   "source": [
    "import random\n",
    "item=[\"Potato\",\"Tomato\",\"Ladies finger\",\"Onion\",\"Garlic\",\"Ginger\",\"Chilli\",\"Elephant Yam\",\"Carrot\",\"Spinach\"]  # list of item\n",
    "quantity=[\"1\",'500','250','1','100','50','100','500','300','150']   # quantity of the item\n",
    "price=['150','100','130','200','130','50','90','45','65','300']     # price of the item\n",
    "file=open(\"23122004.csv\",\"w+\")\n",
    "for i in range(100):\n",
    "    r1=random.randint(0,9)\n",
    "    r2=random.randint(0,9)\n",
    "    r3=random.randint(0,9)\n",
    "    Quantity=int(quantity[r2])\n",
    "    Price=int(price[r3])\n",
    "    total=Quantity*Price\n",
    "    grand_total=str(total)\n",
    "    file.write(item[r1]+','+quantity[r2]+','+price[r3]+'\\t Total ='+grand_total+\"\\n\")\n",
    "file.close()\n",
    "               "
   ]
  },
  {
   "cell_type": "code",
   "execution_count": 6,
   "metadata": {},
   "outputs": [
    {
     "name": "stdout",
     "output_type": "stream",
     "text": [
      "['Potato,100,45', 'Total', '=4500']\n",
      "['Potato,500,90', 'Total', '=45000']\n",
      "['Potato,150,300', 'Total', '=45000']\n",
      "['Potato,1,130', 'Total', '=130']\n",
      "['Potato,50,90', 'Total', '=4500']\n",
      "['Potato,1,150', 'Total', '=150']\n",
      "['Potato,1,50', 'Total', '=50']\n",
      "['Potato,300,65', 'Total', '=19500']\n",
      "['Potato,500,50', 'Total', '=25000']\n",
      "['Potato,100,90', 'Total', '=9000']\n",
      "['Potato,300,300', 'Total', '=90000']\n",
      "['Potato,50,100', 'Total', '=5000']\n",
      "['Potato,1,130', 'Total', '=130']\n"
     ]
    }
   ],
   "source": [
    "with open(\"23122004.csv\",\"r+\") as file:\n",
    "    for line in file:\n",
    "        if \"Potato\" in line:\n",
    "            lines=line.split()\n",
    "            print(lines)"
   ]
  },
  {
   "cell_type": "code",
   "execution_count": 7,
   "metadata": {},
   "outputs": [
    {
     "name": "stdout",
     "output_type": "stream",
     "text": [
      "['Tomato,100,200', 'Total', '=20000']\n",
      "['Tomato,1,300', 'Total', '=300']\n",
      "['Tomato,500,130', 'Total', '=65000']\n",
      "['Tomato,1,90', 'Total', '=90']\n",
      "['Tomato,1,50', 'Total', '=50']\n",
      "['Tomato,100,45', 'Total', '=4500']\n",
      "['Tomato,50,100', 'Total', '=5000']\n",
      "['Tomato,150,90', 'Total', '=13500']\n",
      "['Tomato,150,130', 'Total', '=19500']\n"
     ]
    }
   ],
   "source": [
    "with open(\"23122004.csv\",\"r+\") as file:\n",
    "    for line in file:\n",
    "        if \"Tomato\" in line:\n",
    "            lines=line.split()\n",
    "            print(lines)"
   ]
  },
  {
   "cell_type": "code",
   "execution_count": null,
   "metadata": {},
   "outputs": [],
   "source": []
  }
 ],
 "metadata": {
  "kernelspec": {
   "display_name": "Python 3",
   "language": "python",
   "name": "python3"
  },
  "language_info": {
   "codemirror_mode": {
    "name": "ipython",
    "version": 3
   },
   "file_extension": ".py",
   "mimetype": "text/x-python",
   "name": "python",
   "nbconvert_exporter": "python",
   "pygments_lexer": "ipython3",
   "version": "3.10.11"
  },
  "orig_nbformat": 4
 },
 "nbformat": 4,
 "nbformat_minor": 2
}
