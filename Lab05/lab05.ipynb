{
 "cells": [
  {
   "cell_type": "code",
   "execution_count": 13,
   "metadata": {},
   "outputs": [],
   "source": [
    "import random\n",
    "item=[\"Potato\",\"Tomato\",\"Ladiesfinger\",\"Onion\",\"Garlic\",\"Ginger\",\"Chilli\",\"ElephantYam\",\"Carrot\",\"Spinach\"]  # list of item\n",
    "quantity=[\"1\",'500','250','1','100','50','100','500','300','150']   # quantity of the item\n",
    "price=['150','100','130','200','130','50','90','45','65','300']     # price of the item\n",
    "file=open(\"23122004.csv\",\"w+\")\n",
    "for i in range(100):\n",
    "    r1=random.randint(0,9)\n",
    "    r2=random.randint(0,9)\n",
    "    r3=random.randint(0,9)\n",
    "    Quantity=int(quantity[r2])\n",
    "    Price=int(price[r3])\n",
    "    total=Quantity*Price\n",
    "    grand_total=str(total)\n",
    "    file.write(item[r1]+','+quantity[r2]+','+price[r3]+'\\t Total ='+grand_total+\"\\n\")\n",
    "file.close()\n",
    "               "
   ]
  },
  {
   "cell_type": "code",
   "execution_count": 14,
   "metadata": {},
   "outputs": [
    {
     "name": "stdout",
     "output_type": "stream",
     "text": [
      "['Potato,150,150', 'Total', '=22500']\n",
      "['Potato,100,100', 'Total', '=10000']\n",
      "['Potato,1,130', 'Total', '=130']\n",
      "['Potato,1,150', 'Total', '=150']\n",
      "['Potato,150,200', 'Total', '=30000']\n",
      "['Potato,100,130', 'Total', '=13000']\n",
      "['Potato,100,130', 'Total', '=13000']\n",
      "['Potato,1,100', 'Total', '=100']\n",
      "['Potato,250,45', 'Total', '=11250']\n",
      "['Potato,150,100', 'Total', '=15000']\n"
     ]
    }
   ],
   "source": [
    "with open(\"23122004.csv\",\"r+\") as file:\n",
    "    for line in file:\n",
    "        if \"Potato\" in line:\n",
    "            lines=line.split()\n",
    "            print(lines)"
   ]
  },
  {
   "cell_type": "code",
   "execution_count": 15,
   "metadata": {},
   "outputs": [
    {
     "name": "stdout",
     "output_type": "stream",
     "text": [
      "['Tomato,150,130', 'Total', '=19500']\n",
      "['Tomato,100,150', 'Total', '=15000']\n",
      "['Tomato,50,45', 'Total', '=2250']\n",
      "['Tomato,50,200', 'Total', '=10000']\n",
      "['Tomato,1,200', 'Total', '=200']\n",
      "['Tomato,100,200', 'Total', '=20000']\n",
      "['Tomato,150,90', 'Total', '=13500']\n",
      "['Tomato,1,130', 'Total', '=130']\n",
      "['Tomato,100,130', 'Total', '=13000']\n",
      "['Tomato,150,50', 'Total', '=7500']\n",
      "['Tomato,1,65', 'Total', '=65']\n",
      "['Tomato,100,300', 'Total', '=30000']\n"
     ]
    }
   ],
   "source": [
    "with open(\"23122004.csv\",\"r+\") as file:\n",
    "    for line in file:\n",
    "        if \"Tomato\" in line:\n",
    "            lines=line.split()\n",
    "            print(lines)"
   ]
  },
  {
   "cell_type": "code",
   "execution_count": 16,
   "metadata": {},
   "outputs": [],
   "source": [
    "with open(\"23122004.csv\",\"r+\") as file:\n",
    "    for line in file:\n",
    "        if \"Ladies_finger\" in line:\n",
    "            lines=line.split()\n",
    "            print(lines)\n",
    "            "
   ]
  },
  {
   "cell_type": "code",
   "execution_count": 17,
   "metadata": {},
   "outputs": [
    {
     "name": "stdout",
     "output_type": "stream",
     "text": [
      "['Onion,1,100', 'Total', '=100']\n",
      "['Onion,500,100', 'Total', '=50000']\n",
      "['Onion,250,300', 'Total', '=75000']\n"
     ]
    }
   ],
   "source": [
    "with open(\"23122004.csv\",\"r+\") as file:\n",
    "    for line in file:\n",
    "        if \"Onion\" in line:\n",
    "            lines=line.split()\n",
    "            print(lines)\n",
    "            "
   ]
  },
  {
   "cell_type": "code",
   "execution_count": 18,
   "metadata": {},
   "outputs": [
    {
     "name": "stdout",
     "output_type": "stream",
     "text": [
      "['Garlic,1,50', 'Total', '=50']\n",
      "['Garlic,1,130', 'Total', '=130']\n",
      "['Garlic,1,50', 'Total', '=50']\n",
      "['Garlic,300,130', 'Total', '=39000']\n",
      "['Garlic,50,50', 'Total', '=2500']\n",
      "['Garlic,150,100', 'Total', '=15000']\n",
      "['Garlic,150,130', 'Total', '=19500']\n",
      "['Garlic,1,200', 'Total', '=200']\n",
      "['Garlic,500,45', 'Total', '=22500']\n",
      "['Garlic,50,45', 'Total', '=2250']\n",
      "['Garlic,500,90', 'Total', '=45000']\n",
      "['Garlic,50,150', 'Total', '=7500']\n",
      "['Garlic,100,100', 'Total', '=10000']\n"
     ]
    }
   ],
   "source": [
    "with open(\"23122004.csv\",\"r+\") as file:\n",
    "    for line in file:\n",
    "        if \"Garlic\" in line:\n",
    "            lines=line.split()\n",
    "            print(lines)\n",
    "            "
   ]
  },
  {
   "cell_type": "code",
   "execution_count": 19,
   "metadata": {},
   "outputs": [
    {
     "name": "stdout",
     "output_type": "stream",
     "text": [
      "['Chilli,300,200', 'Total', '=60000']\n",
      "['Chilli,300,200', 'Total', '=60000']\n",
      "['Chilli,1,50', 'Total', '=50']\n",
      "['Chilli,250,130', 'Total', '=32500']\n",
      "['Chilli,250,150', 'Total', '=37500']\n",
      "['Chilli,150,300', 'Total', '=45000']\n",
      "['Chilli,500,150', 'Total', '=75000']\n",
      "['Chilli,1,150', 'Total', '=150']\n",
      "['Chilli,500,300', 'Total', '=150000']\n",
      "['Chilli,500,90', 'Total', '=45000']\n"
     ]
    }
   ],
   "source": [
    "with open(\"23122004.csv\",\"r+\") as file:\n",
    "    for line in file:\n",
    "        if \"Chilli\" in line:\n",
    "            lines=line.split()\n",
    "            print(lines)\n",
    "            "
   ]
  },
  {
   "cell_type": "code",
   "execution_count": 20,
   "metadata": {},
   "outputs": [
    {
     "name": "stdout",
     "output_type": "stream",
     "text": [
      "['ElephantYam,100,130', 'Total', '=13000']\n",
      "['ElephantYam,300,300', 'Total', '=90000']\n",
      "['ElephantYam,100,130', 'Total', '=13000']\n",
      "['ElephantYam,100,130', 'Total', '=13000']\n",
      "['ElephantYam,100,100', 'Total', '=10000']\n",
      "['ElephantYam,500,65', 'Total', '=32500']\n",
      "['ElephantYam,1,300', 'Total', '=300']\n",
      "['ElephantYam,100,90', 'Total', '=9000']\n",
      "['ElephantYam,100,90', 'Total', '=9000']\n",
      "['ElephantYam,300,130', 'Total', '=39000']\n",
      "['ElephantYam,100,100', 'Total', '=10000']\n",
      "['ElephantYam,100,130', 'Total', '=13000']\n",
      "['ElephantYam,1,130', 'Total', '=130']\n",
      "['ElephantYam,1,200', 'Total', '=200']\n"
     ]
    }
   ],
   "source": [
    "with open(\"23122004.csv\",\"r+\") as file:\n",
    "    for line in file:\n",
    "        if \"ElephantYam\" in line:\n",
    "            lines=line.split()\n",
    "            print(lines)\n",
    "            "
   ]
  },
  {
   "cell_type": "code",
   "execution_count": 21,
   "metadata": {},
   "outputs": [
    {
     "name": "stdout",
     "output_type": "stream",
     "text": [
      "['Carrot,50,150', 'Total', '=7500']\n",
      "['Carrot,250,50', 'Total', '=12500']\n",
      "['Carrot,100,130', 'Total', '=13000']\n",
      "['Carrot,250,300', 'Total', '=75000']\n",
      "['Carrot,150,300', 'Total', '=45000']\n",
      "['Carrot,100,150', 'Total', '=15000']\n",
      "['Carrot,300,100', 'Total', '=30000']\n"
     ]
    }
   ],
   "source": [
    "with open(\"23122004.csv\",\"r+\") as file:\n",
    "    for line in file:\n",
    "        if \"Carrot\" in line:\n",
    "            lines=line.split()\n",
    "            print(lines)"
   ]
  },
  {
   "cell_type": "code",
   "execution_count": 22,
   "metadata": {},
   "outputs": [
    {
     "name": "stdout",
     "output_type": "stream",
     "text": [
      "['Spinach,500,200', 'Total', '=100000']\n",
      "['Spinach,250,65', 'Total', '=16250']\n",
      "['Spinach,100,130', 'Total', '=13000']\n",
      "['Spinach,1,65', 'Total', '=65']\n",
      "['Spinach,50,130', 'Total', '=6500']\n",
      "['Spinach,500,150', 'Total', '=75000']\n",
      "['Spinach,300,300', 'Total', '=90000']\n",
      "['Spinach,100,130', 'Total', '=13000']\n"
     ]
    }
   ],
   "source": [
    "with open(\"23122004.csv\",\"r+\") as file:\n",
    "    for line in file:\n",
    "        if \"Spinach\" in line:\n",
    "            lines=line.split()\n",
    "            print(lines)"
   ]
  },
  {
   "cell_type": "code",
   "execution_count": null,
   "metadata": {},
   "outputs": [],
   "source": []
  }
 ],
 "metadata": {
  "kernelspec": {
   "display_name": "Python 3",
   "language": "python",
   "name": "python3"
  },
  "language_info": {
   "codemirror_mode": {
    "name": "ipython",
    "version": 3
   },
   "file_extension": ".py",
   "mimetype": "text/x-python",
   "name": "python",
   "nbconvert_exporter": "python",
   "pygments_lexer": "ipython3",
   "version": "3.10.11"
  },
  "orig_nbformat": 4
 },
 "nbformat": 4,
 "nbformat_minor": 2
}
