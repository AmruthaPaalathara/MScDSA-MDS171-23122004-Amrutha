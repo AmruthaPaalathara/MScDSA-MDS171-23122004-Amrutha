{
 "cells": [
  {
   "cell_type": "code",
   "execution_count": 35,
   "metadata": {},
   "outputs": [],
   "source": [
    "import random\n",
    "item=[\"Potato\",\"Tomato\",\"Raddish\",\"Onion\",\"Garlic\",\"Cucumber\",\"Chilli\",\"Yam\",\"Carrot\",\"Spinach\"]  # list of item\n",
    "quantity=[\"1\",'500','250','1','100','50','100','500','300','150']   # quantity of the item\n",
    "price=['150','100','130','200','130','50','90','45','65','300']     # price of the item\n",
    "file=open(\"23122004.csv\",\"w+\")\n",
    "for i in range(100):\n",
    "    r1=random.randint(0,9)\n",
    "    r2=random.randint(0,9)\n",
    "    r3=random.randint(0,9)\n",
    "    Quantity=int(quantity[r2])\n",
    "    Price=int(price[r3])\n",
    "    total=Quantity*Price\n",
    "    grand_total=str(total)\n",
    "    file.write(item[r1]+','+quantity[r2]+','+price[r3]+'\\t Total ='+grand_total+\"\\n\")\n",
    "file.close()\n",
    "               "
   ]
  },
  {
   "cell_type": "code",
   "execution_count": 36,
   "metadata": {},
   "outputs": [
    {
     "name": "stdout",
     "output_type": "stream",
     "text": [
      "Raddish,1,50\t Total =50\n",
      "\n",
      "Garlic,500,100\t Total =50000\n",
      "\n",
      "Potato,100,200\t Total =20000\n",
      "\n",
      "Onion,300,45\t Total =13500\n",
      "\n",
      "Spinach,100,130\t Total =13000\n",
      "\n",
      "Garlic,500,130\t Total =65000\n",
      "\n",
      "Tomato,500,200\t Total =100000\n",
      "\n",
      "Spinach,500,90\t Total =45000\n",
      "\n",
      "Tomato,150,130\t Total =19500\n",
      "\n",
      "Tomato,100,90\t Total =9000\n",
      "\n",
      "Carrot,250,50\t Total =12500\n",
      "\n",
      "Cucumber,500,50\t Total =25000\n",
      "\n",
      "Garlic,300,100\t Total =30000\n",
      "\n",
      "Onion,150,300\t Total =45000\n",
      "\n",
      "Tomato,100,130\t Total =13000\n",
      "\n"
     ]
    }
   ],
   "source": [
    "count=1\n",
    "with open(\"23122004.csv\",\"r+\") as file:\n",
    "    for line in file.readlines():\n",
    "        if count<=5 or 90<count<=100:\n",
    "            print(line)\n",
    "        count+=1"
   ]
  },
  {
   "cell_type": "code",
   "execution_count": 40,
   "metadata": {},
   "outputs": [
    {
     "name": "stdout",
     "output_type": "stream",
     "text": [
      "Total cost for Potato:  197595\n",
      "Total cost for Tomato:  412065\n",
      "Total cost for Raddish:  89775\n",
      "Total cost for onion:  486590\n",
      "Total cost for Garlic:  461445\n",
      "Total cost for Cucumber:  164010\n",
      "Total cost for Chilli:  128310\n",
      "Total cost for Yam:  209500\n",
      "Total cost for Carrot:  52500\n",
      "Total cost for Spinach:  357150\n",
      "\n",
      "\n",
      "\n",
      "\n",
      "Total quantity for Potato:  1802\n",
      "Total quantity for Tomato:  3001\n",
      "Total quantity for Raddish:  1054\n",
      "Total quantity for onion:  3351\n",
      "Total quantity for Garlic:  3805\n",
      "Total quantity for Cucumber:  1452\n",
      "Total quantity for Chilli:  1403\n",
      "Total quantity for Yam:  1500\n",
      "Total quantity for Carrot:  450\n",
      "Total quantity for Spinach:  2501\n"
     ]
    }
   ],
   "source": [
    "with open(\"23122004.csv\",\"r+\") as file:\n",
    "    potatotot=0\n",
    "    tomatotot=0\n",
    "    raddishtot=0\n",
    "    oniontot=0\n",
    "    garlictot=0\n",
    "    cucumbertot=0\n",
    "    chillitot=0\n",
    "    yamtot=0\n",
    "    carrotot=0\n",
    "    spinachtot=0\n",
    "    qpotato=0\n",
    "    qtomato=0\n",
    "    qraddish=0\n",
    "    qonion=0\n",
    "    qgarlic=0\n",
    "    qcucumber=0\n",
    "    qchilli=0\n",
    "    qyam=0\n",
    "    qcarrot=0\n",
    "    qspinach=0\n",
    "    for line in file:\n",
    "        lines=line.strip().split(\"=\")\n",
    "        qline=line.strip().split(\",\")\n",
    "        \n",
    "        if \"Potato\" in line:\n",
    "            qp=int(qline[1])\n",
    "            p=int(lines[1])\n",
    "            potatotot+=p\n",
    "            qpotato+=qp\n",
    "        elif \"Tomato\" in line:\n",
    "            qt=int(qline[1])\n",
    "            t=int(lines[1])\n",
    "            tomatotot+=t\n",
    "            qtomato+=qt\n",
    "        elif \"Raddish\" in line:\n",
    "            qr=int(qline[1])\n",
    "            r=int(lines[1])\n",
    "            raddishtot+=r\n",
    "            qraddish+=qr\n",
    "        elif \"Onion\" in line:\n",
    "            qo=int(qline[1])\n",
    "            o=int(lines[1])\n",
    "            oniontot+=o\n",
    "            qonion+=qo\n",
    "        elif \"Garlic\" in line:\n",
    "            qg=int(qline[1])\n",
    "            g=int(lines[1])\n",
    "            garlictot+=g\n",
    "            qgarlic+=qg\n",
    "        elif \"Cucumber\" in line:\n",
    "            qcu=int(qline[1])\n",
    "            cu=int(lines[1])\n",
    "            cucumbertot+=cu\n",
    "            qcucumber+=qcu\n",
    "        elif \"Chilli\" in line:\n",
    "            qc=int(qline[1])\n",
    "            c=int(lines[1])\n",
    "            chillitot+=c\n",
    "            qchilli+=qc\n",
    "        elif \"Yam\" in line:\n",
    "            qy=int(qline[1])\n",
    "            y=int(lines[1])\n",
    "            yamtot+=y\n",
    "            qyam+=qy\n",
    "        elif \"Carrot\" in line:\n",
    "            qc=int(qline[1])\n",
    "            c=int(lines[1])\n",
    "            carrotot+=c\n",
    "            qcarrot+=qc\n",
    "        elif \"Spinach\" in line:\n",
    "            qs=int(qline[1])\n",
    "            s=int(lines[1])\n",
    "            spinachtot+=s\n",
    "            qspinach+=qs\n",
    "        else:\n",
    "            pass\n",
    "      \n",
    "    print(\"Total cost for Potato: \",potatotot)\n",
    "    print(\"Total cost for Tomato: \",tomatotot)\n",
    "    print(\"Total cost for Raddish: \",raddishtot)\n",
    "    print(\"Total cost for onion: \",oniontot)\n",
    "    print(\"Total cost for Garlic: \",garlictot)\n",
    "    print(\"Total cost for Cucumber: \",cucumbertot)\n",
    "    print(\"Total cost for Chilli: \",chillitot)\n",
    "    print(\"Total cost for Yam: \",yamtot)\n",
    "    print(\"Total cost for Carrot: \",carrotot)\n",
    "    print(\"Total cost for Spinach: \",spinachtot)\n",
    "    print(\"\\n\")\n",
    "    print(\"\\n\")\n",
    "    print(\"Total quantity for Potato: \",qpotato)\n",
    "    print(\"Total quantity for Tomato: \",qtomato)\n",
    "    print(\"Total quantity for Raddish: \",qraddish)\n",
    "    print(\"Total quantity for onion: \",qonion)\n",
    "    print(\"Total quantity for Garlic: \",qgarlic)\n",
    "    print(\"Total quantity for Cucumber: \",qcucumber)\n",
    "    print(\"Total quantity for Chilli: \",qchilli)\n",
    "    print(\"Total quantity for Yam: \",qyam)\n",
    "    print(\"Total quantity for Carrot: \",qcarrot)\n",
    "    print(\"Total quantity for Spinach: \",qspinach)\n"
   ]
  },
  {
   "cell_type": "code",
   "execution_count": 45,
   "metadata": {},
   "outputs": [
    {
     "name": "stdout",
     "output_type": "stream",
     "text": [
      "|Item Name | Total Quantity | Total |\n",
      "|Potato    | 1802 | 197595 |\n",
      "|Tomato    | 3001 | 412065 |\n",
      "|Raddish   | 1054 | 89775 |\n",
      "|Onion     | 3351 | 486590 |\n",
      "|Garlic    | 3805 | 461445 |\n",
      "|Cucumber  | 1452 | 164010 |\n",
      "|Chilli    | 1403 | 128310 |\n",
      "|Yam       | 1500 | 209500 |\n",
      "|Carrot    | 450 | 52500 |\n",
      "|Spinach   | 2501 | 357150 |\n"
     ]
    }
   ],
   "source": [
    "print(\"|Item Name | Total Quantity | Total |\")\n",
    "print(\"|Potato    |\",qpotato,\"|\",potatotot,\"|\")\n",
    "print(\"|Tomato    |\",qtomato,\"|\",tomatotot,\"|\")\n",
    "print(\"|Raddish   |\",qraddish,\"|\",raddishtot,\"|\")\n",
    "print(\"|Onion     |\",qonion,\"|\",oniontot,\"|\")\n",
    "print(\"|Garlic    |\",qgarlic,\"|\",garlictot,\"|\")\n",
    "print(\"|Cucumber  |\",qcucumber,\"|\",cucumbertot,\"|\")\n",
    "print(\"|Chilli    |\",qchilli,\"|\",chillitot,\"|\")\n",
    "print(\"|Yam       |\",qyam,\"|\",yamtot,\"|\")\n",
    "print(\"|Carrot    |\",qcarrot,\"|\",carrotot,\"|\")\n",
    "print(\"|Spinach   |\",qspinach,\"|\",spinachtot,\"|\")\n"
   ]
  },
  {
   "cell_type": "code",
   "execution_count": null,
   "metadata": {},
   "outputs": [],
   "source": []
  },
  {
   "cell_type": "code",
   "execution_count": null,
   "metadata": {},
   "outputs": [],
   "source": []
  },
  {
   "cell_type": "code",
   "execution_count": null,
   "metadata": {},
   "outputs": [],
   "source": [
    "\n",
    "            "
   ]
  },
  {
   "cell_type": "code",
   "execution_count": null,
   "metadata": {},
   "outputs": [],
   "source": [
    "\n",
    "            "
   ]
  },
  {
   "cell_type": "code",
   "execution_count": null,
   "metadata": {},
   "outputs": [],
   "source": [
    "\n",
    "        \n",
    "            "
   ]
  },
  {
   "cell_type": "code",
   "execution_count": null,
   "metadata": {},
   "outputs": [],
   "source": []
  },
  {
   "cell_type": "code",
   "execution_count": null,
   "metadata": {},
   "outputs": [],
   "source": [
    "\n"
   ]
  },
  {
   "cell_type": "code",
   "execution_count": null,
   "metadata": {},
   "outputs": [],
   "source": []
  },
  {
   "cell_type": "code",
   "execution_count": null,
   "metadata": {},
   "outputs": [],
   "source": []
  }
 ],
 "metadata": {
  "kernelspec": {
   "display_name": "Python 3",
   "language": "python",
   "name": "python3"
  },
  "language_info": {
   "codemirror_mode": {
    "name": "ipython",
    "version": 3
   },
   "file_extension": ".py",
   "mimetype": "text/x-python",
   "name": "python",
   "nbconvert_exporter": "python",
   "pygments_lexer": "ipython3",
   "version": "3.10.11"
  },
  "orig_nbformat": 4
 },
 "nbformat": 4,
 "nbformat_minor": 2
}
