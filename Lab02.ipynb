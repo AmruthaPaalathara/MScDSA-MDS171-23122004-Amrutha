{
 "cells": [
  {
   "cell_type": "code",
   "execution_count": 13,
   "metadata": {},
   "outputs": [
    {
     "name": "stdout",
     "output_type": "stream",
     "text": [
      "Type q if you want to exit\n",
      "The length of nlist: 3\n",
      "['djjdjd', 'jdjdjd', 'ldldkd']\n"
     ]
    }
   ],
   "source": [
    "nlist=[]\n",
    "def name():\n",
    "    print(\"Type q if you want to exit\")\n",
    "    while True:\n",
    "        n=input(\"enter the name:\") # entering villagers name\n",
    "        s=n.strip()    #To remove spacing\n",
    "        \n",
    "        if s in nlist:\n",
    "            print(\"the name already exist\")\n",
    "        elif n==\"q\":\n",
    "            break\n",
    "        else:\n",
    "            nlist.append(n)\n",
    "            nlist.sort()\n",
    "\n",
    "name()\n",
    "print(\"The length of nlist:\" ,len(nlist))\n",
    "\n",
    "\n",
    "print(nlist)\n",
    "\n"
   ]
  },
  {
   "cell_type": "code",
   "execution_count": null,
   "metadata": {},
   "outputs": [],
   "source": []
  },
  {
   "cell_type": "code",
   "execution_count": null,
   "metadata": {},
   "outputs": [],
   "source": []
  },
  {
   "cell_type": "code",
   "execution_count": null,
   "metadata": {},
   "outputs": [],
   "source": []
  }
 ],
 "metadata": {
  "kernelspec": {
   "display_name": "Python 3",
   "language": "python",
   "name": "python3"
  },
  "language_info": {
   "codemirror_mode": {
    "name": "ipython",
    "version": 3
   },
   "file_extension": ".py",
   "mimetype": "text/x-python",
   "name": "python",
   "nbconvert_exporter": "python",
   "pygments_lexer": "ipython3",
   "version": "3.10.11"
  },
  "orig_nbformat": 4
 },
 "nbformat": 4,
 "nbformat_minor": 2
}
