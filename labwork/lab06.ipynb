{
 "cells": [
  {
   "cell_type": "code",
   "execution_count": 1,
   "metadata": {},
   "outputs": [
    {
     "name": "stdout",
     "output_type": "stream",
     "text": [
      "rahul thomas\n",
      "Total vowel count:  4\n",
      "Number of a:  2\n",
      "Number of e:  0\n",
      "Number of i:  0\n",
      "Number of o:  1\n",
      "Number of u:  1\n",
      "Percentage of vowels in the string:  33.33333333333333\n"
     ]
    }
   ],
   "source": [
    "def counting_vowels():   #defining a function\n",
    "    vowel=[\"a\",\"e\",\"i\",\"o\",\"u\"]\n",
    "    vowels=(input(\"enter the string\")).lower()\n",
    "    print(vowels)\n",
    "    Total_vowel_count=0 \n",
    "    for item in vowels:\n",
    "        if item in vowel:   #changing the letters of the user input into lower cases\n",
    "            acount=vowels.count(\"a\")\n",
    "            ecount=vowels.count(\"e\")\n",
    "            icount=vowels.count(\"i\")\n",
    "            ocount=vowels.count(\"o\")\n",
    "            ucount=vowels.count(\"u\")\n",
    "            Total_vowel_count=acount+ecount+icount+ocount+ucount\n",
    "            \n",
    "    else:\n",
    "        vowel_counts=0   #if the vowel is not there then set the value as 1\n",
    "    print(\"Total vowel count: \",Total_vowel_count)\n",
    "    print(\"Number of a: \",acount)\n",
    "    print(\"Number of e: \",ecount)\n",
    "    print(\"Number of i: \",icount)\n",
    "    print(\"Number of o: \",ocount)\n",
    "    print(\"Number of u: \",ucount)\n",
    "\n",
    "    print(\"Percentage of vowels in the string: \", (Total_vowel_count/len(vowels)*100))\n",
    "counting_vowels()\n",
    "\n"
   ]
  },
  {
   "cell_type": "code",
   "execution_count": 2,
   "metadata": {},
   "outputs": [
    {
     "name": "stdout",
     "output_type": "stream",
     "text": [
      "amrutha\n",
      "Total vowel count:  3\n",
      "Number of a:  2\n",
      "Number of e:  0\n",
      "Number of i:  0\n",
      "Number of o:  0\n",
      "Number of u:  1\n",
      "Percentage of vowels in the string:  42.857142857142854\n"
     ]
    }
   ],
   "source": [
    "counting_vowels()"
   ]
  },
  {
   "cell_type": "code",
   "execution_count": 3,
   "metadata": {},
   "outputs": [
    {
     "name": "stdout",
     "output_type": "stream",
     "text": [
      "dassappan\n",
      "Total vowel count:  3\n",
      "Number of a:  3\n",
      "Number of e:  0\n",
      "Number of i:  0\n",
      "Number of o:  0\n",
      "Number of u:  0\n",
      "Percentage of vowels in the string:  33.33333333333333\n"
     ]
    }
   ],
   "source": [
    "counting_vowels()"
   ]
  },
  {
   "cell_type": "code",
   "execution_count": null,
   "metadata": {},
   "outputs": [],
   "source": []
  }
 ],
 "metadata": {
  "kernelspec": {
   "display_name": "Python 3",
   "language": "python",
   "name": "python3"
  },
  "language_info": {
   "codemirror_mode": {
    "name": "ipython",
    "version": 3
   },
   "file_extension": ".py",
   "mimetype": "text/x-python",
   "name": "python",
   "nbconvert_exporter": "python",
   "pygments_lexer": "ipython3",
   "version": "3.10.11"
  },
  "orig_nbformat": 4
 },
 "nbformat": 4,
 "nbformat_minor": 2
}
