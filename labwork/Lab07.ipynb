{
 "cells": [
  {
   "cell_type": "code",
   "execution_count": 1,
   "metadata": {},
   "outputs": [],
   "source": [
    "import random     # to generate random numbers"
   ]
  },
  {
   "cell_type": "code",
   "execution_count": 2,
   "metadata": {},
   "outputs": [],
   "source": [
    "Menu=[[\"Tea\",10],[\"Coffee\",20],[\"Vada\",40],[\"Dosa\",40],[\"Masala Dosa\",60],[\"Idly\",40],[\"Appam\",40],[\"Idiyappam\",40],[\"Egg curry\",30],[\"Stew\",25],[\"Chicken curry\",40],[\"Paratha\",45],[\"Poratta\",30],[\"Apple juice\",60],[\"Banana juice\",50],[\"Anar\",60],[\"Dates juice\",80]]   #predefined order in the restaurent\n",
    "Enchanted_orders=[]\n",
    "\n",
    "def new_order():\n",
    "    \n",
    "   \n",
    "    r1=random.randint(0,9)    #to generate random numbers for order id\n",
    "    r2=random.randint(0,9)\n",
    "    r3=random.randint(0,9)\n",
    "    r4=random.randint(0,9)\n",
    "    r5=random.randint(0,9)\n",
    "    r=str(r1)+str(r2)+str(r3)+str(r4)+str(r5)\n",
    "    print(\"order ID:\" , r)\n",
    "\n",
    "    \n",
    "      \n",
    "    itemlist=[]  #initializing the list\n",
    "    n=int(input(\"Enter how many item to be ordered: \"))\n",
    "    for i in range(n):\n",
    "        dict1={}    #initializing the dictionary\n",
    "        dict1[\"item number\"]=int(input(\"Enter item number: \"))\n",
    "        dict1[\"Quantity\"]=int(input(\"enter the quantity: \"))\n",
    "        itemlist.append(dict1)\n",
    "\n",
    "    customer_order={}   #initializing the dictionary to store the orders of an individual\n",
    "    customer_order[\"Orderid\"]=r  \n",
    "    customer_order[\"items\"]=itemlist\n",
    "    Enchanted_orders.append(customer_order)   #appending the list to the dictionary\n",
    "    print(Enchanted_orders)\n",
    "# new_order() \n",
    "\n",
    "            "
   ]
  },
  {
   "cell_type": "code",
   "execution_count": 3,
   "metadata": {},
   "outputs": [],
   "source": [
    "def view_order():\n",
    "    for order_data in Enchanted_orders:\n",
    "        items=order_data[\"items\"]\n",
    "        for item in items:\n",
    "            item_number=item[\"item number\"]\n",
    "            quantity=item[\"Quantity\"]\n",
    "            print(f\"item :{Menu[item_number-1][0]},Quantity:{quantity}\")"
   ]
  },
  {
   "cell_type": "code",
   "execution_count": 4,
   "metadata": {},
   "outputs": [
    {
     "name": "stdout",
     "output_type": "stream",
     "text": [
      "The Enchanted Fork\n",
      "1.Creating a new order\n",
      "2.Viewing the order\n",
      "3.Exit\n",
      "order ID: 72984\n",
      "[{'Orderid': '72984', 'items': [{'item number': 1, 'Quantity': 2}, {'item number': 3, 'Quantity': 1}]}]\n",
      "The Enchanted Fork\n",
      "1.Creating a new order\n",
      "2.Viewing the order\n",
      "3.Exit\n",
      "item :Tea,Quantity:2\n",
      "item :Vada,Quantity:1\n",
      "The Enchanted Fork\n",
      "1.Creating a new order\n",
      "2.Viewing the order\n",
      "3.Exit\n"
     ]
    }
   ],
   "source": [
    "\n",
    "while True:\n",
    "    print(\"The Enchanted Fork\")\n",
    "    print(\"1.Creating a new order\")\n",
    "    print(\"2.Viewing the order\")\n",
    "    print(\"3.Exit\")\n",
    "    decision=int(input(\"enter the decision: \"))  #to decide whether to create or view order or to exit the option\n",
    "    if decision==1:\n",
    "        new_order()   # to create new order of a customer\n",
    "    elif decision==2:\n",
    "        view_order()    #to view the order of the customer\n",
    "    elif decision==3: #for not ordering\n",
    "        break\n",
    "    else:\n",
    "        print(\"Invalid choice\")\n",
    "\n"
   ]
  },
  {
   "cell_type": "code",
   "execution_count": null,
   "metadata": {},
   "outputs": [],
   "source": []
  },
  {
   "cell_type": "code",
   "execution_count": null,
   "metadata": {},
   "outputs": [],
   "source": []
  }
 ],
 "metadata": {
  "kernelspec": {
   "display_name": "Python 3",
   "language": "python",
   "name": "python3"
  },
  "language_info": {
   "codemirror_mode": {
    "name": "ipython",
    "version": 3
   },
   "file_extension": ".py",
   "mimetype": "text/x-python",
   "name": "python",
   "nbconvert_exporter": "python",
   "pygments_lexer": "ipython3",
   "version": "3.10.11"
  },
  "orig_nbformat": 4
 },
 "nbformat": 4,
 "nbformat_minor": 2
}
