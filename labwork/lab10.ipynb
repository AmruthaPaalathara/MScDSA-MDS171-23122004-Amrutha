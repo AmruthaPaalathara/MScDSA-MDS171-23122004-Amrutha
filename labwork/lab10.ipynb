{
 "cells": [
  {
   "cell_type": "markdown",
   "metadata": {},
   "source": [
    "Create a Python Class for managing student details and marks.\n",
    "Define the class and implement the methods of the student class in a menu-driven program for different types of users"
   ]
  },
  {
   "cell_type": "code",
   "execution_count": 8,
   "metadata": {},
   "outputs": [
    {
     "name": "stdout",
     "output_type": "stream",
     "text": [
      "1.Teacher\n",
      "2.Student\n"
     ]
    },
    {
     "name": "stdout",
     "output_type": "stream",
     "text": [
      "1.Add details of the student.\n",
      "2.Search for a student.\n",
      "3.View the details of the student.\n",
      "{'01': {'Mark: 25', 'Name: rahul', 'Department: data science'}}\n",
      "{'01': {'Mark: 25', 'Name: rahul', 'Department: data science'}, '25': {'Department: maths', 'Name: krishna', 'Mark: 36'}}\n",
      "**************************************************\n",
      "The student already exist!!!\n",
      "Student does not exist!!!\n",
      "**************************************************\n",
      "{'01': {'Mark: 25', 'Name: rahul', 'Department: data science'}, '25': {'Department: maths', 'Name: krishna', 'Mark: 36'}}\n",
      "**************************************************\n",
      "The student already exist!!!\n",
      "Student does not exist!!!\n",
      "**************************************************\n",
      "{'01': {'Mark: 25', 'Name: rahul', 'Department: data science'}, '25': {'Department: maths', 'Name: krishna', 'Mark: 36'}}\n",
      "**************************************************\n",
      "Invalid decision choice!!!\n",
      "Type v to view the details\n",
      "{'01': {'Mark: 25', 'Name: rahul', 'Department: data science'}, '25': {'Department: maths', 'Name: krishna', 'Mark: 36'}}\n",
      "Invalid user choice!!!\n"
     ]
    }
   ],
   "source": [
    "class Studentdetails:\n",
    "    def __init__(self,):\n",
    "        self.students={}\n",
    "\n",
    "    def adddetail(self,name,reg,dept,mark):\n",
    "        details={\n",
    "            \"Name: \" +name,\n",
    "            \"Department: \"+dept,\n",
    "            \"Mark: \"+mark\n",
    "        }\n",
    "        self.students[reg]=details\n",
    "        print(self.students)\n",
    "\n",
    "    def search(self):\n",
    "        ids=input(\"Enter the id: \")\n",
    "        for regs in self.students:\n",
    "            if regs == ids:\n",
    "                print(\"The student already exist!!!\")\n",
    "            else:\n",
    "                print(\"Student does not exist!!!\")\n",
    "    def viewdetails(self):\n",
    "        print(self.students)\n",
    "\n",
    "det=Studentdetails()\n",
    "print(\"1.Teacher\")\n",
    "print(\"2.Student\")\n",
    "while True:\n",
    "    user=int(input(\"Who is the user?\"))\n",
    "    if user == 1:\n",
    "        print(\"1.Add details of the student.\")\n",
    "        print(\"2.Search for a student.\")\n",
    "        print(\"3.View the details of the student.\")\n",
    "        while True:\n",
    "            decision=int(input(\"Enter the decision: \"))\n",
    "            if decision == 1:\n",
    "                num=int(input(\"How many details to be add: \"))\n",
    "                for i in range(num):\n",
    "                    Name=input(\"Enter the name of the student: \")\n",
    "                    Register_no=input(\"Enter the register number of the student: \")\n",
    "                    Department=input(\"Department of the student: \")\n",
    "                    Mark=(input(\"Mark of the student: \"))\n",
    "                    det.adddetail(Name,Register_no,Department,Mark)\n",
    "\n",
    "                print('*'*50)\n",
    "            elif decision == 2:\n",
    "                det.search()\n",
    "                print(\"*\"*50)\n",
    "            elif decision == 3:\n",
    "                det.viewdetails()\n",
    "                print(\"*\"*50)\n",
    "            else:\n",
    "                print(\"Invalid decision choice!!!\")\n",
    "                break\n",
    "    elif user == 2:\n",
    "        print(\"Type v to view the details\")\n",
    "        while True:\n",
    "            studecision=input(\"Student decision: \")\n",
    "            if studecision==\"v\":\n",
    "                det.viewdetails()\n",
    "            else:\n",
    "                break\n",
    "    else:\n",
    "        print(\"Invalid user choice!!!\")\n",
    "        break\n",
    "                       \n"
   ]
  },
  {
   "cell_type": "code",
   "execution_count": null,
   "metadata": {},
   "outputs": [],
   "source": []
  }
 ],
 "metadata": {
  "kernelspec": {
   "display_name": "Python 3",
   "language": "python",
   "name": "python3"
  },
  "language_info": {
   "codemirror_mode": {
    "name": "ipython",
    "version": 3
   },
   "file_extension": ".py",
   "mimetype": "text/x-python",
   "name": "python",
   "nbconvert_exporter": "python",
   "pygments_lexer": "ipython3",
   "version": "3.10.11"
  }
 },
 "nbformat": 4,
 "nbformat_minor": 2
}
