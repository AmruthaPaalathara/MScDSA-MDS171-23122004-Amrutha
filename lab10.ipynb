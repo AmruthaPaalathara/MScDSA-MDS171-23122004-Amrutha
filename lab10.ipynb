{
 "cells": [
  {
   "cell_type": "markdown",
   "metadata": {},
   "source": [
    "Create a Python Class for managing student details and marks.\n",
    "Define the class and implement the methods of the student class in a menu-driven program for different types of users"
   ]
  },
  {
   "cell_type": "code",
   "execution_count": 4,
   "metadata": {},
   "outputs": [
    {
     "name": "stdout",
     "output_type": "stream",
     "text": [
      "1.Add details of the student.\n",
      "2.Search for a student.\n",
      "3.Update the details of the student.\n",
      "{'23144002': {'Name: ann', 'Department: zoology'}}\n",
      "**************************************************\n",
      "1.Add details of the student.\n",
      "2.Search for a student.\n",
      "3.Update the details of the student.\n",
      "The student already exist!!!\n",
      "**************************************************\n",
      "1.Add details of the student.\n",
      "2.Search for a student.\n",
      "3.Update the details of the student.\n",
      "Invalid choice!!!\n",
      "**************************************************\n"
     ]
    }
   ],
   "source": [
    "class Studentdetails:\n",
    "    def __init__(self,):\n",
    "        self.students={}\n",
    "\n",
    "    def adddetail(self,name,reg,dept):\n",
    "        details={\n",
    "            \"Name: \" +name,\n",
    "            \"Department: \"+dept\n",
    "        }\n",
    "        self.students[reg]=details\n",
    "        print(self.students)\n",
    "    def search(self):\n",
    "        ids=input(\"Enter the id\")\n",
    "        for regs in self.students:\n",
    "            if regs == ids:\n",
    "                print(\"The student already exist!!!\")\n",
    "            else:\n",
    "                print(\"Student does not exist!!!\")\n",
    "    # def update(self):\n",
    "\n",
    "det=Studentdetails()\n",
    "\n",
    "while True:\n",
    "    print(\"1.Add details of the student.\")\n",
    "    print(\"2.Search for a student.\")\n",
    "    print(\"3.Update the details of the student.\")\n",
    "    decision=int(input(\"Enter the decision: \"))\n",
    "    if decision == 1:\n",
    "        Name=input(\"Enter the name of the student: \")\n",
    "        Register_no=input(\"Enter the register number of the student: \")\n",
    "        Department=input(\"Department of the student: \")\n",
    "        det.adddetail(Name,Register_no,Department)\n",
    "        print('*'*50)\n",
    "    elif decision ==2:\n",
    "        det.search()\n",
    "        print(\"*\"*50)\n",
    "    else:\n",
    "        print(\"Invalid choice!!!\")\n",
    "        print(\"*\"*50)\n",
    "        break\n",
    "                       \n"
   ]
  }
 ],
 "metadata": {
  "kernelspec": {
   "display_name": "Python 3",
   "language": "python",
   "name": "python3"
  },
  "language_info": {
   "codemirror_mode": {
    "name": "ipython",
    "version": 3
   },
   "file_extension": ".py",
   "mimetype": "text/x-python",
   "name": "python",
   "nbconvert_exporter": "python",
   "pygments_lexer": "ipython3",
   "version": "3.10.11"
  }
 },
 "nbformat": 4,
 "nbformat_minor": 2
}
