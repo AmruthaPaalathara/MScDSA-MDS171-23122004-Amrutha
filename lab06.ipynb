{
 "cells": [
  {
   "cell_type": "code",
   "execution_count": 1,
   "metadata": {},
   "outputs": [
    {
     "data": {
      "text/plain": [
       "1"
      ]
     },
     "execution_count": 1,
     "metadata": {},
     "output_type": "execute_result"
    }
   ],
   "source": [
    "def counting_vowels(string):   #defining a function\n",
    "    vowels=input(\"enter the string\")\n",
    "    vowel_count=0        #settin the initial value of vowel count=0\n",
    "    vowel_counts={}    #listing the vowel counts in a dictionary\n",
    "    for item in string:\n",
    "        if item ==item.lower():   #changing the letters of the user input into lower cases\n",
    "            vowel_count+=1    #incrementing the number of vowels\n",
    "            if item in vowel_counts:\n",
    "                vowel_counts+=1   #if the vowel is alredy there increment by one\n",
    "            else:\n",
    "                vowel_counts=1   #if the vowel is not there then set the value as 1\n",
    "        return vowel_count\n",
    "\n",
    "counting_vowels()\n"
   ]
  },
  {
   "cell_type": "code",
   "execution_count": 12,
   "metadata": {},
   "outputs": [
    {
     "name": "stdout",
     "output_type": "stream",
     "text": [
      "Total count of vowels: 3\n",
      "Vowels and their count:\n",
      "a: 2\n",
      "u: 1\n",
      "Percentage of vowels: 42.86%\n"
     ]
    }
   ],
   "source": [
    "def count_vowels(input_string):\n",
    "    # Define a string containing all the vowels\n",
    "    vowels = \"aeiouAEIOU\"\n",
    "    \n",
    "    # Initialize a variable to keep track of the vowel count\n",
    "    vowel_count = 0\n",
    "    \n",
    "    # Create a dictionary to store vowel counts\n",
    "    vowel_counts = {}\n",
    "    \n",
    "    # Iterate through the characters in the input string\n",
    "    for char in input_string:\n",
    "        # Check if the character is a vowel\n",
    "        if char in vowels:\n",
    "            # Convert the character to lowercase (to handle both upper and lower case)\n",
    "            char = char.lower()\n",
    "            \n",
    "            # Update the vowel count\n",
    "            vowel_count += 1\n",
    "            \n",
    "            # Update the vowel count dictionary\n",
    "            vowel_counts[char] = vowel_counts.get(char, 0) + 1\n",
    "    \n",
    "    return vowel_count, vowel_counts\n",
    "\n",
    "def calculate_percentage(vowel_count, total_characters):\n",
    "    # Calculate the percentage of vowels\n",
    "    percentage = (vowel_count / total_characters) * 100\n",
    "    return percentage\n",
    "\n",
    "def main():\n",
    "    # Prompt the user to enter a string\n",
    "    user_input = input(\"Enter a string: \")\n",
    "    \n",
    "    # Calculate total character count\n",
    "    total_characters = len(user_input)\n",
    "    \n",
    "    # Call the function to count vowels\n",
    "    vowel_count, vowel_counts = count_vowels(user_input)\n",
    "    \n",
    "    # Print total count of vowels\n",
    "    print(f\"Total count of vowels: {vowel_count}\")\n",
    "    \n",
    "    # Print each vowel and its count\n",
    "    print(\"Vowels and their count:\")\n",
    "    for vowel, count in vowel_counts.items():\n",
    "        print(f\"{vowel}: {count}\")\n",
    "    \n",
    "    # Calculate and print the percentage of vowels\n",
    "    percentage_vowels = calculate_percentage(vowel_count, total_characters)\n",
    "    print(f\"Percentage of vowels: {percentage_vowels:.2f}%\")\n",
    "\n",
    "if __name__ == \"__main__\":\n",
    "    main()\n"
   ]
  },
  {
   "cell_type": "code",
   "execution_count": null,
   "metadata": {},
   "outputs": [],
   "source": []
  }
 ],
 "metadata": {
  "kernelspec": {
   "display_name": "Python 3",
   "language": "python",
   "name": "python3"
  },
  "language_info": {
   "codemirror_mode": {
    "name": "ipython",
    "version": 3
   },
   "file_extension": ".py",
   "mimetype": "text/x-python",
   "name": "python",
   "nbconvert_exporter": "python",
   "pygments_lexer": "ipython3",
   "version": "3.10.11"
  },
  "orig_nbformat": 4
 },
 "nbformat": 4,
 "nbformat_minor": 2
}
