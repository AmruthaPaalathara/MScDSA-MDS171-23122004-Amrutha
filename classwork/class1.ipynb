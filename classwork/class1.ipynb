{
 "cells": [
  {
   "cell_type": "markdown",
   "metadata": {},
   "source": [
    "Define a class expense tracker that stores the expense and income in a dictionary. Implement the method to store the transaction,view transaction,calculate the total expense/income."
   ]
  },
  {
   "cell_type": "code",
   "execution_count": 7,
   "metadata": {},
   "outputs": [
    {
     "name": "stdout",
     "output_type": "stream",
     "text": [
      "INCOME\n",
      "EXPENSES\n",
      "Total income\n",
      "15500\n",
      "Total Expenses\n",
      "0\n"
     ]
    }
   ],
   "source": [
    "class expenseTracker:\n",
    "    def __init__(self):\n",
    "        self.transactions={\n",
    "            \"expenses\":[],\n",
    "            \"Income\":[]\n",
    "        }\n",
    "    def showTransaction(self,type,category,cost,des,date):\n",
    "        #income/expense\n",
    "        # type/category\n",
    "        # cost/amount\n",
    "        # description of the transaction\n",
    "        # date\n",
    "        transaction={\n",
    "            \"Category\":category,\n",
    "            \"Cost\":cost,\n",
    "            \"Description\":des,\n",
    "            \"Date\":date,\n",
    "        }\n",
    "        if type ==\"expense\":\n",
    "            self.transactions[\"expenses\"].append(transaction)\n",
    "        else:\n",
    "            self.transactions[\"Income\"].append(transaction)\n",
    "        return True\n",
    "        \n",
    "    def view_transactions(self):\n",
    "        print(\"INCOME\")\n",
    "        for expense in self.transactions[\"expenses\"]:\n",
    "            print(expense)\n",
    "        \n",
    "        print(\"EXPENSES\")\n",
    "        for expense in self.transactions[\"expenses\"]:\n",
    "            print(expense)\n",
    "        \n",
    "    def total_income_expenses(self):\n",
    "        print(\"Total income\")\n",
    "        total_income=0\n",
    "        for income in self.transactions[\"Income\"]:\n",
    "            total_income+=income[\"Cost\"]\n",
    "        print(total_income)\n",
    "\n",
    "        print(\"Total Expenses\")\n",
    "        total_expense=0\n",
    "        for expenses in self.transactions[\"expenses\"]:\n",
    "            total_expense+=expenses[\"Cost\"]\n",
    "        print(total_expense)\n",
    "\n",
    "\n",
    "myTransactions=expenseTracker()\n",
    "myTransactions.showTransaction(\"Expense\",\"Electricity Bill\",4500,\"mdhc\",\"17/08/2023\")\n",
    "myTransactions.showTransaction(\"Income\",\"Pocket money\",10500,\"From parents\",\"20/09/2023\")\n",
    "myTransactions.showTransaction(\"Expense\",\"Food\",500,\"Cafe by valley\",\"15/09/2023\")\n",
    "\n",
    "myTransactions.view_transactions()\n",
    "myTransactions.total_income_expenses()"
   ]
  },
  {
   "cell_type": "markdown",
   "metadata": {},
   "source": []
  },
  {
   "cell_type": "markdown",
   "metadata": {},
   "source": []
  }
 ],
 "metadata": {
  "kernelspec": {
   "display_name": "Python 3",
   "language": "python",
   "name": "python3"
  },
  "language_info": {
   "codemirror_mode": {
    "name": "ipython",
    "version": 3
   },
   "file_extension": ".py",
   "mimetype": "text/x-python",
   "name": "python",
   "nbconvert_exporter": "python",
   "pygments_lexer": "ipython3",
   "version": "3.10.11"
  },
  "orig_nbformat": 4
 },
 "nbformat": 4,
 "nbformat_minor": 2
}
