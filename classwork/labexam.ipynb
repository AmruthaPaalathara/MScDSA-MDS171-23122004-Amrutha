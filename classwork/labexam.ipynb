{
 "cells": [
  {
   "cell_type": "markdown",
   "metadata": {},
   "source": [
    "student support system @ christ. register new complaint. collect regiser number,name,dept,complaint.\n",
    "search a complaint based on dept.\n",
    "update when a student come to know the details\n",
    "menu driven\n"
   ]
  },
  {
   "cell_type": "code",
   "execution_count": 2,
   "metadata": {},
   "outputs": [
    {
     "name": "stdout",
     "output_type": "stream",
     "text": [
      "1.New register\n",
      "2.Search according to the dept\n",
      "3.Updation about the complaint\n",
      "4.Exit\n",
      "{'msds': {'Name': 'amrutha', 'Number': '1', 'Complaint': 'wifi issues'}}\n",
      "{'msds': {'Name': 'amrutha', 'Number': '1', 'Complaint': 'wifi issues'}}\n",
      "None\n",
      "1.New register\n",
      "2.Search according to the dept\n",
      "3.Updation about the complaint\n",
      "4.Exit\n",
      "{'msds': {'Name': 'amrutha', 'Number': '1', 'Complaint': 'wifi issues'}, 'bsc': {'Name': 'dev mohan', 'Number': '2', 'Complaint': 'water issues'}}\n",
      "{'msds': {'Name': 'amrutha', 'Number': '1', 'Complaint': 'wifi issues'}, 'bsc': {'Name': 'dev mohan', 'Number': '2', 'Complaint': 'water issues'}}\n",
      "None\n",
      "1.New register\n",
      "2.Search according to the dept\n",
      "3.Updation about the complaint\n",
      "4.Exit\n",
      "{'msds': {'Name': 'arjun dm', 'Number': '3', 'Complaint': 'electricity'}, 'bsc': {'Name': 'dev mohan', 'Number': '2', 'Complaint': 'water issues'}}\n",
      "{'msds': {'Name': 'arjun dm', 'Number': '3', 'Complaint': 'electricity'}, 'bsc': {'Name': 'dev mohan', 'Number': '2', 'Complaint': 'water issues'}}\n",
      "None\n",
      "1.New register\n",
      "2.Search according to the dept\n",
      "3.Updation about the complaint\n",
      "4.Exit\n",
      "[{'Name': 'arjun dm', 'Number': '3', 'Complaint': 'electricity'}]\n",
      "[{'Name': 'arjun dm', 'Number': '3', 'Complaint': 'electricity'}]\n",
      "None\n",
      "1.New register\n",
      "2.Search according to the dept\n",
      "3.Updation about the complaint\n",
      "4.Exit\n",
      "<bound method Studentsupport.update of <__main__.Studentsupport object at 0x0000017F1AA371C0>>\n",
      "1.New register\n",
      "2.Search according to the dept\n",
      "3.Updation about the complaint\n",
      "4.Exit\n"
     ]
    },
    {
     "ename": "",
     "evalue": "",
     "output_type": "error",
     "traceback": [
      "\u001b[1;31mThe Kernel crashed while executing code in the the current cell or a previous cell. Please review the code in the cell(s) to identify a possible cause of the failure. Click <a href='https://aka.ms/vscodeJupyterKernelCrash'>here</a> for more info. View Jupyter <a href='command:jupyter.viewOutput'>log</a> for further details."
     ]
    }
   ],
   "source": [
    "class Studentsupport:\n",
    "    def __init__(self):\n",
    "        self.details={}\n",
    "\n",
    "    def register(self,name,number,dept,compalint):\n",
    "        self.cmplt={}\n",
    "        self.details[dept]=Dept\n",
    "        self.cmplt[\"Name\"]=name\n",
    "        self.cmplt[\"Number\"]=number\n",
    "        self.cmplt[\"Complaint\"]=compalint\n",
    "        self.details[dept]=self.cmplt\n",
    "        print(self.details)\n",
    "\n",
    "    def search(self):\n",
    "        for item in self.details.keys():\n",
    "            slag=0\n",
    "            if userdept==item:\n",
    "                print([self.details[Dept]])\n",
    "\n",
    "    def update(self):\n",
    "        for names in self.cmplt.values():\n",
    "            if username==names:\n",
    "                print(\"problem resolved\")\n",
    "    def printr(self):\n",
    "        print(support.register(Name,Number,Dept,Complaint))\n",
    "        \n",
    "\n",
    "    def prints(self):\n",
    "        print(support.search())\n",
    "    def printu(self):\n",
    "        print(support.update)\n",
    "\n",
    "\n",
    "support=Studentsupport()\n",
    "while True:\n",
    "    print(\"1.New register\")\n",
    "    print(\"2.Search according to the dept\")\n",
    "    print(\"3.Updation about the complaint\")\n",
    "    print(\"4.Exit\")\n",
    "    decision=int(input(\"Enter the decision: \"))\n",
    "    if decision == 1:\n",
    "        Name=input(\"Enter the name: \")\n",
    "        Number=input(\"Enter the register number: \")\n",
    "        Dept=input(\"Enter the dept of the student: \")\n",
    "        Complaint=input(\"Write the complaint: \")\n",
    "        support.register(Name,Number,Dept,Complaint)\n",
    "        support.printr()\n",
    "    elif decision == 2:\n",
    "        userdept=input(\"Enter the dept to be searched: \")\n",
    "        support.search()\n",
    "        support.prints()\n",
    "    elif decision == 3:\n",
    "        username=input(\"Enter the name of the student: \")\n",
    "        support.update()\n",
    "        support.printu()\n",
    "    elif decision == 4:\n",
    "        exit()\n",
    "        break\n",
    "    else:\n",
    "        print(\"Invalid choice\")\n",
    "\n",
    "\n",
    "        "
   ]
  },
  {
   "cell_type": "code",
   "execution_count": null,
   "metadata": {},
   "outputs": [],
   "source": []
  }
 ],
 "metadata": {
  "kernelspec": {
   "display_name": "Python 3",
   "language": "python",
   "name": "python3"
  },
  "language_info": {
   "codemirror_mode": {
    "name": "ipython",
    "version": 3
   },
   "file_extension": ".py",
   "mimetype": "text/x-python",
   "name": "python",
   "nbconvert_exporter": "python",
   "pygments_lexer": "ipython3",
   "version": "3.10.11"
  }
 },
 "nbformat": 4,
 "nbformat_minor": 2
}
