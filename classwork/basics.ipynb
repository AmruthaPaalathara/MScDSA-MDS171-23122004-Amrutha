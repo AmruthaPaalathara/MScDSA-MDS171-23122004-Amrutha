{
 "cells": [
  {
   "cell_type": "code",
   "execution_count": 59,
   "metadata": {},
   "outputs": [
    {
     "name": "stdout",
     "output_type": "stream",
     "text": [
      "welcome\n"
     ]
    }
   ],
   "source": [
    "print(\"welcome\")"
   ]
  },
  {
   "cell_type": "markdown",
   "metadata": {},
   "source": [
    "IF STATMENTS(24/08/2023)"
   ]
  },
  {
   "cell_type": "code",
   "execution_count": 60,
   "metadata": {},
   "outputs": [],
   "source": [
    "# statments under if"
   ]
  },
  {
   "cell_type": "code",
   "execution_count": 61,
   "metadata": {},
   "outputs": [
    {
     "name": "stdout",
     "output_type": "stream",
     "text": [
      "start the programe\n",
      "the value is five\n",
      "end the programe\n"
     ]
    }
   ],
   "source": [
    "print(\"start the programe\")\n",
    "a=5\n",
    "if a==5:\n",
    "    print(\"the value is five\")\n",
    "print(\"end the programe\")"
   ]
  },
  {
   "cell_type": "code",
   "execution_count": 62,
   "metadata": {},
   "outputs": [],
   "source": [
    "# input given by the user"
   ]
  },
  {
   "cell_type": "code",
   "execution_count": 63,
   "metadata": {},
   "outputs": [
    {
     "name": "stdout",
     "output_type": "stream",
     "text": [
      "start the programe\n",
      "the value is five\n",
      "program end\n"
     ]
    }
   ],
   "source": [
    "print(\"start the programe\")\n",
    "a=int(input(\"enter a value\"))\n",
    "if a==5:\n",
    "    print(\"the value is five\")\n",
    "print(\"program end\")"
   ]
  },
  {
   "cell_type": "code",
   "execution_count": 64,
   "metadata": {},
   "outputs": [],
   "source": [
    "# If else statement"
   ]
  },
  {
   "cell_type": "code",
   "execution_count": 65,
   "metadata": {},
   "outputs": [
    {
     "name": "stdout",
     "output_type": "stream",
     "text": [
      "start the program\n",
      "the value is not 5\n",
      "end the programme\n"
     ]
    }
   ],
   "source": [
    "print(\"start the program\")\n",
    "a=int(input(\"enter the value\"))\n",
    "if a==5:\n",
    "    print(\"the value is 5\")\n",
    "\n",
    "else:\n",
    "    print(\"the value is not 5\")\n",
    "print(\"end the programme\")"
   ]
  },
  {
   "cell_type": "code",
   "execution_count": 66,
   "metadata": {},
   "outputs": [
    {
     "name": "stdout",
     "output_type": "stream",
     "text": [
      "start the program\n",
      "the value is not 3\n",
      "end the programme\n"
     ]
    }
   ],
   "source": [
    "print(\"start the program\")\n",
    "a=int(input(\"enter the value\"))\n",
    "if a==3:\n",
    "    print(a,\"is the value\")\n",
    "else:\n",
    "    print(\"the value is not 3\")\n",
    "print(\"end the programme\")"
   ]
  },
  {
   "cell_type": "markdown",
   "metadata": {},
   "source": [
    "Write a programme to check if the entered number is ODD or EVEN"
   ]
  },
  {
   "cell_type": "code",
   "execution_count": 67,
   "metadata": {},
   "outputs": [
    {
     "name": "stdout",
     "output_type": "stream",
     "text": [
      "start the program\n",
      "6 is even\n"
     ]
    }
   ],
   "source": [
    "print(\"start the program\")\n",
    "a=int(input(\"enter the value\"))\n",
    "if a%2==0:\n",
    "    print(a,\"is even\")\n",
    "else:\n",
    "    print(a,\"is odd\")"
   ]
  },
  {
   "cell_type": "code",
   "execution_count": 68,
   "metadata": {},
   "outputs": [
    {
     "name": "stdout",
     "output_type": "stream",
     "text": [
      "start the program\n",
      "7 is odd\n"
     ]
    }
   ],
   "source": [
    "print(\"start the program\")\n",
    "a=int(input(\"enter the value\"))\n",
    "if a%2==0:\n",
    "    print(a,\"is even\")\n",
    "else:\n",
    "    print(a,\"is odd\")"
   ]
  },
  {
   "cell_type": "code",
   "execution_count": 69,
   "metadata": {},
   "outputs": [
    {
     "name": "stdout",
     "output_type": "stream",
     "text": [
      "start the program\n",
      "5 is odd\n"
     ]
    }
   ],
   "source": [
    "print(\"start the program\")\n",
    "a=int(input(\"enter the value\"))\n",
    "if a%2==0:\n",
    "    print(a,\"is even\")\n",
    "else:\n",
    "    print(a,\"is odd\")"
   ]
  },
  {
   "cell_type": "code",
   "execution_count": 70,
   "metadata": {},
   "outputs": [
    {
     "name": "stdout",
     "output_type": "stream",
     "text": [
      "start the program\n",
      "7 is odd\n"
     ]
    }
   ],
   "source": [
    "print(\"start the program\")\n",
    "a=int(input(\"enter the value\"))\n",
    "if a%2==0:\n",
    "    print(a,\"is even\")\n",
    "else:\n",
    "    print(a,\"is odd\")"
   ]
  },
  {
   "cell_type": "code",
   "execution_count": 71,
   "metadata": {},
   "outputs": [
    {
     "name": "stdout",
     "output_type": "stream",
     "text": [
      "start the program\n",
      "9.0 is odd\n"
     ]
    }
   ],
   "source": [
    "print(\"start the program\")\n",
    "a=float(input(\"enter the value\"))\n",
    "if a%2==0:\n",
    "    print(a,\"is even\")\n",
    "else:\n",
    "    print(a,\"is odd\")"
   ]
  },
  {
   "cell_type": "code",
   "execution_count": 72,
   "metadata": {},
   "outputs": [
    {
     "name": "stdout",
     "output_type": "stream",
     "text": [
      "start the program\n",
      "2.0 is even\n"
     ]
    }
   ],
   "source": [
    "print(\"start the program\")\n",
    "a=float(input(\"enter the value\"))\n",
    "if a%2==0:\n",
    "    print(a,\"is even\")\n",
    "else:\n",
    "    print(a,\"is odd\")"
   ]
  },
  {
   "cell_type": "code",
   "execution_count": 73,
   "metadata": {},
   "outputs": [],
   "source": [
    "# if elif else statements"
   ]
  },
  {
   "cell_type": "code",
   "execution_count": 74,
   "metadata": {},
   "outputs": [
    {
     "name": "stdout",
     "output_type": "stream",
     "text": [
      "start the program\n"
     ]
    },
    {
     "name": "stdout",
     "output_type": "stream",
     "text": [
      "the given number is Natural number\n"
     ]
    }
   ],
   "source": [
    "print(\"start the program\") \n",
    "x=int(input(\"enter the value\")) \n",
    "if x>=1:\n",
    "    print(\"the given number is Natural number\")\n",
    "elif x>=0:\n",
    "    print(\"the given number is whole number\")\n",
    "else:\n",
    "    print(\"the given number is real number\")\n",
    " \n"
   ]
  },
  {
   "cell_type": "code",
   "execution_count": 75,
   "metadata": {},
   "outputs": [],
   "source": [
    "# Nested if statements"
   ]
  },
  {
   "cell_type": "code",
   "execution_count": 76,
   "metadata": {},
   "outputs": [
    {
     "name": "stdout",
     "output_type": "stream",
     "text": [
      "6 is the smallest number\n"
     ]
    }
   ],
   "source": [
    "a=int(input(\"enter the value\"))\n",
    "b=int(input(\"enter the value\"))\n",
    "c=int(input(\"enter the value\"))\n",
    "if a>b:\n",
    "    if a>c:\n",
    "        print(a,\"is the largest number\")\n",
    "    elif a<c:\n",
    "        print(a,\"is greater than\",b\"and \" ,a, \"is smaller than \",c)\n",
    "else:\n",
    "    print(a,\"is the smallest number\")"
   ]
  },
  {
   "cell_type": "markdown",
   "metadata": {},
   "source": [
    "Read 3 numbers from user and print the largest among them"
   ]
  },
  {
   "cell_type": "code",
   "execution_count": 77,
   "metadata": {},
   "outputs": [
    {
     "ename": "ValueError",
     "evalue": "invalid literal for int() with base 10: ''",
     "output_type": "error",
     "traceback": [
      "\u001b[1;31m---------------------------------------------------------------------------\u001b[0m",
      "\u001b[1;31mValueError\u001b[0m                                Traceback (most recent call last)",
      "Cell \u001b[1;32mIn[77], line 3\u001b[0m\n\u001b[0;32m      1\u001b[0m a\u001b[39m=\u001b[39m\u001b[39mint\u001b[39m(\u001b[39minput\u001b[39m(\u001b[39m\"\u001b[39m\u001b[39menter the value\u001b[39m\u001b[39m\"\u001b[39m))\n\u001b[0;32m      2\u001b[0m b\u001b[39m=\u001b[39m\u001b[39mint\u001b[39m(\u001b[39minput\u001b[39m(\u001b[39m\"\u001b[39m\u001b[39menter the value\u001b[39m\u001b[39m\"\u001b[39m))\n\u001b[1;32m----> 3\u001b[0m c\u001b[39m=\u001b[39m\u001b[39mint\u001b[39;49m(\u001b[39minput\u001b[39;49m(\u001b[39m\"\u001b[39;49m\u001b[39menter the value\u001b[39;49m\u001b[39m\"\u001b[39;49m))\n\u001b[0;32m      4\u001b[0m \u001b[39mif\u001b[39;00m a\u001b[39m>\u001b[39mb \u001b[39mand\u001b[39;00m a\u001b[39m>\u001b[39mc:\n\u001b[0;32m      5\u001b[0m     \u001b[39mprint\u001b[39m(a,\u001b[39m\"\u001b[39m\u001b[39mis the largest among the 3 number\u001b[39m\u001b[39m\"\u001b[39m)\n",
      "\u001b[1;31mValueError\u001b[0m: invalid literal for int() with base 10: ''"
     ]
    }
   ],
   "source": [
    "a=int(input(\"enter the value\"))\n",
    "b=int(input(\"enter the value\"))\n",
    "c=int(input(\"enter the value\"))\n",
    "if a>b and a>c:\n",
    "    print(a,\"is the largest among the 3 number\")\n",
    "elif b>a and b>c:\n",
    "    print(b,\"is the largest among the 3 numbers\") \n",
    "else:\n",
    "    print(c,\"is the largest among the 3 numbers\")   "
   ]
  },
  {
   "cell_type": "markdown",
   "metadata": {},
   "source": [
    "With the same inputs , try to sort the numbers in ascending or descending order based on user choice"
   ]
  },
  {
   "cell_type": "code",
   "execution_count": null,
   "metadata": {},
   "outputs": [
    {
     "name": "stdout",
     "output_type": "stream",
     "text": [
      "12 14 17\n"
     ]
    }
   ],
   "source": [
    "a=int(input(\"enter the value\"))\n",
    "b=int(input(\"enter the value\"))\n",
    "c=int(input(\"enter the value\"))\n",
    "T=int(input(\"what order do you want the numbers to be arranged? if ascending press 1 and for descending press 2\"))\n",
    "if a>b and a>c:\n",
    "    if b>c:\n",
    "        if T==2:\n",
    "            print(a,b,c)\n",
    "        else:\n",
    "            print(c,b,a)\n",
    "    else:\n",
    "         print(a,c,b)\n",
    "elif b>a and b>c:\n",
    "    if a>c:\n",
    "        if T==2:\n",
    "            print(b,a,c)\n",
    "        else:\n",
    "            print(c,a,b)\n",
    "    else:\n",
    "        print(b,c,a)\n",
    "else:\n",
    "    if a>b:\n",
    "        if T==2:\n",
    "            print(c,a,b)\n",
    "        else:\n",
    "             print(a,b,c)"
   ]
  },
  {
   "cell_type": "markdown",
   "metadata": {},
   "source": [
    "Answer with the help of Google"
   ]
  },
  {
   "cell_type": "code",
   "execution_count": null,
   "metadata": {},
   "outputs": [
    {
     "name": "stdout",
     "output_type": "stream",
     "text": [
      "[4, 10, 15]\n"
     ]
    }
   ],
   "source": [
    "a=int(input(\"enter the value\"))\n",
    "b=int(input(\"enter the value\"))\n",
    "c=int(input(\"enter the value\"))\n",
    "list=a,b,c\n",
    "print(sorted(list))"
   ]
  },
  {
   "cell_type": "markdown",
   "metadata": {},
   "source": [
    "LOOPING STATEMENTS(25/08/2023)"
   ]
  },
  {
   "cell_type": "code",
   "execution_count": null,
   "metadata": {},
   "outputs": [],
   "source": [
    "# for loop\n"
   ]
  },
  {
   "cell_type": "code",
   "execution_count": null,
   "metadata": {},
   "outputs": [
    {
     "name": "stdout",
     "output_type": "stream",
     "text": [
      "H\n",
      "i\n",
      ",\n",
      " \n",
      "w\n",
      "e\n",
      "l\n",
      "c\n",
      "o\n",
      "m\n",
      "e\n",
      " \n",
      "t\n",
      "o\n",
      " \n",
      "O\n",
      "o\n",
      "t\n",
      "y\n"
     ]
    }
   ],
   "source": [
    "for x in \"Hi, welcome to Ooty\":\n",
    "    print(x)"
   ]
  },
  {
   "cell_type": "code",
   "execution_count": null,
   "metadata": {},
   "outputs": [
    {
     "name": "stdout",
     "output_type": "stream",
     "text": [
      "19\n",
      "Hi, welcome to Ooty\n"
     ]
    }
   ],
   "source": [
    "x=\"Hi, welcome to Ooty\"\n",
    "print(len(x)) # get the number of characters\n",
    "print(x)"
   ]
  },
  {
   "cell_type": "code",
   "execution_count": null,
   "metadata": {},
   "outputs": [
    {
     "name": "stdout",
     "output_type": "stream",
     "text": [
      "39\n",
      " Hi, welcome to Ooty  \n",
      " It's cold here \n",
      "37\n"
     ]
    }
   ],
   "source": [
    "x=\" Hi, welcome to Ooty  \\n It's cold here \"\n",
    "print(len(x)) # get the number of characters\n",
    "print(x)\n",
    "x=x.strip()  #helps to remove space and special characters at the end and starting of a string\n",
    "print(len(x))"
   ]
  },
  {
   "cell_type": "code",
   "execution_count": null,
   "metadata": {},
   "outputs": [],
   "source": [
    "# for loop"
   ]
  },
  {
   "cell_type": "code",
   "execution_count": null,
   "metadata": {},
   "outputs": [
    {
     "name": "stdout",
     "output_type": "stream",
     "text": [
      "0\n",
      "2\n",
      "4\n",
      "6\n",
      "8\n",
      "10\n",
      "12\n",
      "14\n"
     ]
    }
   ],
   "source": [
    "for i in range (0,15,2):\n",
    "    print(i)"
   ]
  },
  {
   "cell_type": "code",
   "execution_count": null,
   "metadata": {},
   "outputs": [
    {
     "name": "stdout",
     "output_type": "stream",
     "text": [
      "0\n",
      "1\n",
      "2\n",
      "3\n",
      "4\n",
      "5\n",
      "6\n",
      "7\n",
      "8\n",
      "9\n",
      "10\n",
      "11\n",
      "12\n",
      "13\n",
      "14\n"
     ]
    }
   ],
   "source": [
    "for i in range(0,15): #to iterate by +1 we not need to specify it.It will read automatically. But for any other iteration we need to specify\n",
    "    print(i)"
   ]
  },
  {
   "cell_type": "markdown",
   "metadata": {},
   "source": [
    "LIST"
   ]
  },
  {
   "cell_type": "code",
   "execution_count": null,
   "metadata": {},
   "outputs": [
    {
     "data": {
      "text/plain": [
       "list"
      ]
     },
     "execution_count": 17,
     "metadata": {},
     "output_type": "execute_result"
    }
   ],
   "source": [
    "L1=[\"hey\",\"$\",5,10.3]\n",
    "type(L1) #gives the datatype of the variable"
   ]
  },
  {
   "cell_type": "code",
   "execution_count": null,
   "metadata": {},
   "outputs": [
    {
     "name": "stdout",
     "output_type": "stream",
     "text": [
      "['hey', '$', 5, 10.3]\n"
     ]
    }
   ],
   "source": [
    "L1=[\"hey\",\"$\",5,10.3]\n",
    "type(L1)\n",
    "print(L1)"
   ]
  },
  {
   "cell_type": "code",
   "execution_count": null,
   "metadata": {},
   "outputs": [
    {
     "name": "stdout",
     "output_type": "stream",
     "text": [
      "hey\n"
     ]
    }
   ],
   "source": [
    "L1=[\"hey\",\"$\",5,10.3]\n",
    "print(L1[0])"
   ]
  },
  {
   "cell_type": "code",
   "execution_count": null,
   "metadata": {},
   "outputs": [
    {
     "name": "stdout",
     "output_type": "stream",
     "text": [
      "5\n"
     ]
    }
   ],
   "source": [
    "L1=[\"hey\",\"$\",5,10.3]\n",
    "print(L1[-2])"
   ]
  },
  {
   "cell_type": "code",
   "execution_count": null,
   "metadata": {},
   "outputs": [
    {
     "name": "stdout",
     "output_type": "stream",
     "text": [
      "hey\n",
      "$\n",
      "5\n",
      "10.3\n"
     ]
    }
   ],
   "source": [
    "L1=[\"hey\",\"$\",5,10.3]\n",
    "for i in L1:\n",
    "    print(i)"
   ]
  },
  {
   "cell_type": "code",
   "execution_count": null,
   "metadata": {},
   "outputs": [
    {
     "name": "stdout",
     "output_type": "stream",
     "text": [
      "<class 'list'>\n",
      "hey\n",
      "$\n",
      "5\n",
      "10.3\n"
     ]
    }
   ],
   "source": [
    "L1=[\"hey\",\"$\",5,10.3]\n",
    "print(type(L1))\n",
    "for i in L1:\n",
    "    print(i)"
   ]
  },
  {
   "cell_type": "markdown",
   "metadata": {},
   "source": [
    "split() & strip()"
   ]
  },
  {
   "cell_type": "code",
   "execution_count": null,
   "metadata": {},
   "outputs": [
    {
     "name": "stdout",
     "output_type": "stream",
     "text": [
      "welcome\n",
      "\t welcome       \n"
     ]
    }
   ],
   "source": [
    "a=\"\\t welcome       \"   #\\t is used for tab\n",
    "print(a.strip())          #here the input itself printed since strip() is not saved to any variable\n",
    "print(a)"
   ]
  },
  {
   "cell_type": "code",
   "execution_count": null,
   "metadata": {},
   "outputs": [
    {
     "name": "stdout",
     "output_type": "stream",
     "text": [
      "welcome\n"
     ]
    }
   ],
   "source": [
    "a=\"     welcome\"\n",
    "v=a.strip()\n",
    "print(v)"
   ]
  },
  {
   "cell_type": "code",
   "execution_count": null,
   "metadata": {},
   "outputs": [
    {
     "data": {
      "text/plain": [
       "['hello', 'this is the string']"
      ]
     },
     "execution_count": 4,
     "metadata": {},
     "output_type": "execute_result"
    }
   ],
   "source": [
    "a=\"hello , this is the string\"\n",
    "a.split(\" , \") #here(with comma between double quotes) the word before and after the comma is separated into 2 string"
   ]
  },
  {
   "cell_type": "code",
   "execution_count": null,
   "metadata": {},
   "outputs": [
    {
     "data": {
      "text/plain": [
       "['hello', ',', 'this', 'is', 'the', 'string']"
      ]
     },
     "execution_count": 5,
     "metadata": {},
     "output_type": "execute_result"
    }
   ],
   "source": [
    "a=\"hello , this is the string\"\n",
    "a.split(\" \") # here (a space between the double quote) each word is separated  "
   ]
  },
  {
   "cell_type": "code",
   "execution_count": null,
   "metadata": {},
   "outputs": [
    {
     "name": "stdout",
     "output_type": "stream",
     "text": [
      "Emily\n"
     ]
    },
    {
     "data": {
      "text/plain": [
       "['',\n",
       " '',\n",
       " '',\n",
       " '',\n",
       " '',\n",
       " '',\n",
       " '',\n",
       " '',\n",
       " '',\n",
       " 'Emily',\n",
       " '',\n",
       " '',\n",
       " '',\n",
       " '',\n",
       " '',\n",
       " '',\n",
       " '',\n",
       " '',\n",
       " '',\n",
       " '',\n",
       " '',\n",
       " '',\n",
       " '']"
      ]
     },
     "execution_count": 9,
     "metadata": {},
     "output_type": "execute_result"
    }
   ],
   "source": [
    "r=\"         Emily             \"\n",
    "v=r.strip()\n",
    "print(v)\n",
    "r.split(\" \")"
   ]
  },
  {
   "cell_type": "code",
   "execution_count": null,
   "metadata": {},
   "outputs": [
    {
     "name": "stdout",
     "output_type": "stream",
     "text": [
      "KerALa\n",
      "HIMALAYA\n",
      "new zealand\n"
     ]
    }
   ],
   "source": [
    "print(\"kERalA\".swapcase())\n",
    "print(\"himalaya\".upper())\n",
    "print(\"NEW ZEALAND\".lower())"
   ]
  },
  {
   "cell_type": "markdown",
   "metadata": {},
   "source": [
    "STRING SLICING"
   ]
  },
  {
   "cell_type": "code",
   "execution_count": null,
   "metadata": {},
   "outputs": [
    {
     "name": "stdout",
     "output_type": "stream",
     "text": [
      "o\n",
      "Hi,good mo\n",
      "Hi,good morn\n",
      "Hi,good morning to all...\n"
     ]
    }
   ],
   "source": [
    "msg=\"Hi,good morning to all...\"\n",
    "print(msg[4])\n",
    "print(msg[0:10])\n",
    "print(msg[:12])\n",
    "print(msg[0:])"
   ]
  },
  {
   "cell_type": "markdown",
   "metadata": {},
   "source": [
    ".format()"
   ]
  },
  {
   "cell_type": "code",
   "execution_count": null,
   "metadata": {},
   "outputs": [
    {
     "name": "stdout",
     "output_type": "stream",
     "text": [
      "You are from tenth and name is Anjana.\n"
     ]
    }
   ],
   "source": [
    "name=input(\"enter your name:\")\n",
    "std=input(\"enter the class:\")\n",
    "print(\"You are from {} and name is {}.\".format(std,name)) #.format is used to enter a user input values in a placeholder."
   ]
  },
  {
   "cell_type": "markdown",
   "metadata": {},
   "source": [
    "List"
   ]
  },
  {
   "cell_type": "code",
   "execution_count": 99,
   "metadata": {},
   "outputs": [
    {
     "name": "stdout",
     "output_type": "stream",
     "text": [
      "['one', 'two', 'three', 'four', 'five']\n"
     ]
    }
   ],
   "source": [
    "l2=[\"one\",\"two\",\"three\",\"four\",\"five\"]\n",
    "print(l2)"
   ]
  },
  {
   "cell_type": "code",
   "execution_count": null,
   "metadata": {},
   "outputs": [
    {
     "name": "stdout",
     "output_type": "stream",
     "text": [
      "two is in l2\n"
     ]
    }
   ],
   "source": [
    "if \"two\" in l2:\n",
    "    print(\"two is in l2\")"
   ]
  },
  {
   "cell_type": "code",
   "execution_count": null,
   "metadata": {},
   "outputs": [
    {
     "name": "stdout",
     "output_type": "stream",
     "text": [
      "seven is not there\n"
     ]
    }
   ],
   "source": [
    "if \"seven\" in l2:\n",
    "    print(\"seven is there\")\n",
    "else:\n",
    "    print(\"seven is not there\")"
   ]
  },
  {
   "cell_type": "markdown",
   "metadata": {},
   "source": [
    "position changing in list"
   ]
  },
  {
   "cell_type": "code",
   "execution_count": null,
   "metadata": {},
   "outputs": [
    {
     "name": "stdout",
     "output_type": "stream",
     "text": [
      "['one', '2', 'three', 'four', 'five', 'eight']\n"
     ]
    }
   ],
   "source": [
    "l2[1]=\"2\"\n",
    "print(l2)"
   ]
  },
  {
   "cell_type": "code",
   "execution_count": 81,
   "metadata": {},
   "outputs": [
    {
     "name": "stdout",
     "output_type": "stream",
     "text": [
      "['one', '3', 'three', 'four', 'five']\n"
     ]
    }
   ],
   "source": [
    "l2[1]=\"3\"\n",
    "print(l2)"
   ]
  },
  {
   "cell_type": "code",
   "execution_count": null,
   "metadata": {},
   "outputs": [
    {
     "name": "stdout",
     "output_type": "stream",
     "text": [
      "['one', 3, 'three', 'four', 'five', 'eight', 'six', 'seven', 'eight', 'nine', 'ten']\n"
     ]
    }
   ],
   "source": [
    "newlist=[\"six\",\"seven\",\"eight\",\"nine\",\"ten\"]\n",
    "print(l2+newlist)"
   ]
  },
  {
   "cell_type": "code",
   "execution_count": null,
   "metadata": {},
   "outputs": [
    {
     "name": "stdout",
     "output_type": "stream",
     "text": [
      "['one', 3, 'three', 'four', 'five', 'eight', ['six', 'seven', 'eight', 'nine', 'ten']]\n"
     ]
    }
   ],
   "source": [
    "l2.append(newlist)\n",
    "print(l2)"
   ]
  },
  {
   "cell_type": "code",
   "execution_count": 82,
   "metadata": {},
   "outputs": [
    {
     "name": "stdout",
     "output_type": "stream",
     "text": [
      "['one', '3', 'three', 'four', 'five', 'eight']\n"
     ]
    }
   ],
   "source": [
    "l2.append(\"eight\")\n",
    "print(l2)"
   ]
  },
  {
   "cell_type": "code",
   "execution_count": 83,
   "metadata": {},
   "outputs": [
    {
     "name": "stdout",
     "output_type": "stream",
     "text": [
      "['3', 'three', 'four', 'five', 'eight']\n"
     ]
    }
   ],
   "source": [
    "print(l2[1:6])"
   ]
  },
  {
   "cell_type": "code",
   "execution_count": 103,
   "metadata": {},
   "outputs": [
    {
     "name": "stdout",
     "output_type": "stream",
     "text": [
      "['one', 'three', 'five']\n"
     ]
    }
   ],
   "source": [
    "l2.pop(1) #pop is used to remove the mentioned element  through index value and pop only accept value\n",
    "print(l2)"
   ]
  },
  {
   "cell_type": "code",
   "execution_count": 100,
   "metadata": {},
   "outputs": [
    {
     "name": "stdout",
     "output_type": "stream",
     "text": [
      "['one', 'two', 'three', 'five']\n"
     ]
    }
   ],
   "source": [
    "l2.remove(\"four\") #remove accept the string value to remove\n",
    "print(l2)"
   ]
  },
  {
   "cell_type": "code",
   "execution_count": 94,
   "metadata": {},
   "outputs": [
    {
     "name": "stdout",
     "output_type": "stream",
     "text": [
      "['five', 'four', 'one', 'three', 'two']\n"
     ]
    }
   ],
   "source": [
    "l2.sort()\n",
    "print(l2) #sort is used to sort the values in alphabetical order"
   ]
  },
  {
   "cell_type": "code",
   "execution_count": 96,
   "metadata": {},
   "outputs": [
    {
     "name": "stdout",
     "output_type": "stream",
     "text": [
      "['five', 'four', 'one', 'three', 'two']\n"
     ]
    }
   ],
   "source": [
    "l2.reverse()\n",
    "print(l2) #to reverse the alphabetical order"
   ]
  },
  {
   "cell_type": "markdown",
   "metadata": {},
   "source": [
    "FUNCTION"
   ]
  },
  {
   "cell_type": "code",
   "execution_count": 102,
   "metadata": {},
   "outputs": [
    {
     "name": "stdout",
     "output_type": "stream",
     "text": [
      "Hi I'm new to python\n"
     ]
    }
   ],
   "source": [
    "def f1():\n",
    "    print(\"Hi I'm new to python\")\n",
    "f1()"
   ]
  },
  {
   "cell_type": "markdown",
   "metadata": {},
   "source": [
    "function with parameter"
   ]
  },
  {
   "cell_type": "code",
   "execution_count": 106,
   "metadata": {},
   "outputs": [
    {
     "name": "stdout",
     "output_type": "stream",
     "text": [
      "hey\n"
     ]
    }
   ],
   "source": [
    "def f2(n):\n",
    "    print(\"hey\")\n",
    "name=\"eben\"\n",
    "f2(name)"
   ]
  },
  {
   "cell_type": "code",
   "execution_count": 107,
   "metadata": {},
   "outputs": [
    {
     "name": "stdout",
     "output_type": "stream",
     "text": [
      "hey eben\n"
     ]
    }
   ],
   "source": [
    "def f2(n):\n",
    "    print(\"hey\",n)\n",
    "name=\"eben\"\n",
    "f2(name)"
   ]
  },
  {
   "cell_type": "code",
   "execution_count": 112,
   "metadata": {},
   "outputs": [
    {
     "name": "stdout",
     "output_type": "stream",
     "text": [
      "hi,this is my first time\n",
      "('success', True)\n"
     ]
    }
   ],
   "source": [
    "def fname():\n",
    "    print(\"hi,this is my first time\")\n",
    "    return(\"success\",True)                      #We are using return in order to print if the given condition is true. if it is false then it will not print\n",
    "name=\"vinduja\"                              \n",
    "ret=fname()\n",
    "print(ret)"
   ]
  },
  {
   "cell_type": "code",
   "execution_count": 113,
   "metadata": {},
   "outputs": [
    {
     "name": "stdout",
     "output_type": "stream",
     "text": [
      "hi,this is my first time\n",
      "True\n"
     ]
    }
   ],
   "source": [
    "def fname():\n",
    "    print(\"hi,this is my first time\")\n",
    "    return True\n",
    "name=\"vinduja\"\n",
    "ret=fname()\n",
    "print(ret)"
   ]
  },
  {
   "cell_type": "code",
   "execution_count": 120,
   "metadata": {},
   "outputs": [
    {
     "name": "stdout",
     "output_type": "stream",
     "text": [
      "even\n",
      "even\n",
      "even\n"
     ]
    },
    {
     "data": {
      "text/plain": [
       "False"
      ]
     },
     "execution_count": 120,
     "metadata": {},
     "output_type": "execute_result"
    }
   ],
   "source": [
    "num=[2,12,6,3]\n",
    "def name(n):\n",
    "    for i in num:\n",
    "        if i%2==0:\n",
    "            print(\"even\")\n",
    "        else:\n",
    "            return False\n",
    "name(num)"
   ]
  },
  {
   "cell_type": "code",
   "execution_count": null,
   "metadata": {},
   "outputs": [],
   "source": []
  }
 ],
 "metadata": {
  "kernelspec": {
   "display_name": "Python 3",
   "language": "python",
   "name": "python3"
  },
  "language_info": {
   "codemirror_mode": {
    "name": "ipython",
    "version": 3
   },
   "file_extension": ".py",
   "mimetype": "text/x-python",
   "name": "python",
   "nbconvert_exporter": "python",
   "pygments_lexer": "ipython3",
   "version": "3.10.11"
  },
  "orig_nbformat": 4
 },
 "nbformat": 4,
 "nbformat_minor": 2
}
