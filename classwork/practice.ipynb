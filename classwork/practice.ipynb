{
 "cells": [
  {
   "cell_type": "code",
   "execution_count": null,
   "metadata": {},
   "outputs": [],
   "source": [
    "# contact -> Name, Email, Phone, City\n",
    "# {\"Name\": ___ , \"Email\": _____, \"Phone\": ____, \"City\": ____ }\n",
    "\n",
    "# [ {\"Name\": ___ , \"Email\": _____, \"Phone\": ____, \"City\": ____ },\n",
    "#  {\"Name\": ___ , \"Email\": _____, \"Phone\": ____, \"City\": ____ },\n",
    "#   {\"Name\": ___ , \"Email\": _____, \"Phone\": ____, \"City\": ____ },\n",
    "#    {\"Name\": ___ , \"Email\": _____, \"Phone\": ____, \"City\": ____ } ]\n",
    "\n",
    "# CREATE\n",
    "# SEARCH\n",
    "# LIST ALL DETAILS\n",
    "\n",
    "\n",
    "\n"
   ]
  },
  {
   "cell_type": "code",
   "execution_count": 7,
   "metadata": {},
   "outputs": [],
   "source": [
    "# contact -> Name, Email, Phone, City\n",
    "# {\"Name\": ___ , \"Email\": _____, \"Phone\": ____, \"City\": ____ }\n",
    "\n",
    "# [ {\"Name\": ___ , \"Email\": _____, \"Phone\": ____, \"City\": ____ },\n",
    "#  {\"Name\": ___ , \"Email\": _____, \"Phone\": ____, \"City\": ____ },\n",
    "#   {\"Name\": ___ , \"Email\": _____, \"Phone\": ____, \"City\": ____ },\n",
    "#    {\"Name\": ___ , \"Email\": _____, \"Phone\": ____, \"City\": ____ } ]\n",
    "\n",
    "# CREATE\n",
    "# SEARCH\n",
    "# LIST ALL DETAILS"
   ]
  },
  {
   "cell_type": "code",
   "execution_count": 8,
   "metadata": {},
   "outputs": [],
   "source": [
    "list_d = []"
   ]
  },
  {
   "cell_type": "code",
   "execution_count": 9,
   "metadata": {},
   "outputs": [],
   "source": [
    "def getContact():\n",
    "    dict={}\n",
    "    dict[\"Name\"]=input(\"enter the name: \")\n",
    "    dict[\"Email\"]=input(\"enter the mail id: \")\n",
    "    dict[\"phone_number\"]=int(input(\"enter the phone number: \"))\n",
    "    dict[\"city\"]=input(\"enter the city: \")\n",
    "    list_d.append(dict)"
   ]
  },
  {
   "cell_type": "code",
   "execution_count": 12,
   "metadata": {},
   "outputs": [],
   "source": [
    "getContact()"
   ]
  },
  {
   "cell_type": "code",
   "execution_count": 13,
   "metadata": {},
   "outputs": [
    {
     "name": "stdout",
     "output_type": "stream",
     "text": [
      "[{'Name': 'alwin', 'Email': 'alwin@christ.in', 'phone_number': 9447755834, 'city': 'kannur'}, {'Name': 'amal', 'Email': 'amal@christ.in', 'phone_number': 8923892389, 'city': 'kannur'}, {'Name': 'ashwin', 'Email': 'ashwin@christ.in', 'phone_number': 834922, 'city': 'kozhikode'}]\n"
     ]
    }
   ],
   "source": [
    "print(list_d)"
   ]
  },
  {
   "cell_type": "code",
   "execution_count": 14,
   "metadata": {},
   "outputs": [
    {
     "name": "stdout",
     "output_type": "stream",
     "text": [
      "{'Name': 'alwin', 'Email': 'alwin@christ.in', 'phone_number': 9447755834, 'city': 'kannur'}\n",
      "{'Name': 'amal', 'Email': 'amal@christ.in', 'phone_number': 8923892389, 'city': 'kannur'}\n",
      "{'Name': 'ashwin', 'Email': 'ashwin@christ.in', 'phone_number': 834922, 'city': 'kozhikode'}\n"
     ]
    }
   ],
   "source": [
    "for item in list_d:\n",
    "    print(item)"
   ]
  },
  {
   "cell_type": "code",
   "execution_count": 15,
   "metadata": {},
   "outputs": [
    {
     "name": "stdout",
     "output_type": "stream",
     "text": [
      "{'Name': 'alwin', 'Email': 'alwin@christ.in', 'phone_number': 9447755834, 'city': 'kannur'}\n"
     ]
    }
   ],
   "source": [
    "ph = 9447755834\n",
    "for item in list_d:\n",
    "    if item['phone_number'] == ph:\n",
    "        print(item)"
   ]
  },
  {
   "cell_type": "code",
   "execution_count": 16,
   "metadata": {},
   "outputs": [
    {
     "name": "stdout",
     "output_type": "stream",
     "text": [
      "{'Name': 'alwin', 'Email': 'alwin@christ.in', 'phone_number': 9447755834, 'city': 'kannur'}\n"
     ]
    }
   ],
   "source": [
    "ph = int(input(\"Enter the contact management: \"))\n",
    "for item in list_d:\n",
    "    if item['phone_number'] == ph:\n",
    "        print(item)"
   ]
  },
  {
   "cell_type": "code",
   "execution_count": null,
   "metadata": {},
   "outputs": [],
   "source": []
  }
 ],
 "metadata": {
  "kernelspec": {
   "display_name": "Python 3",
   "language": "python",
   "name": "python3"
  },
  "language_info": {
   "codemirror_mode": {
    "name": "ipython",
    "version": 3
   },
   "file_extension": ".py",
   "mimetype": "text/x-python",
   "name": "python",
   "nbconvert_exporter": "python",
   "pygments_lexer": "ipython3",
   "version": "3.10.11"
  },
  "orig_nbformat": 4
 },
 "nbformat": 4,
 "nbformat_minor": 2
}
