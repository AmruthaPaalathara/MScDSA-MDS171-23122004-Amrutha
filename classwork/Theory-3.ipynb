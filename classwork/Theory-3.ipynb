{
 "cells": [
  {
   "cell_type": "markdown",
   "metadata": {},
   "source": [
    "FILE HANDLING"
   ]
  },
  {
   "cell_type": "code",
   "execution_count": 19,
   "metadata": {},
   "outputs": [],
   "source": [
    "file=open(\"sample.txt\",\"w+\") #here w+ means we can write and read the file"
   ]
  },
  {
   "cell_type": "code",
   "execution_count": 20,
   "metadata": {},
   "outputs": [
    {
     "data": {
      "text/plain": [
       "80"
      ]
     },
     "execution_count": 20,
     "metadata": {},
     "output_type": "execute_result"
    }
   ],
   "source": [
    "file.write(\"This is my first line in the new file that I created \\n I'm very happy to do this\")"
   ]
  },
  {
   "cell_type": "code",
   "execution_count": 21,
   "metadata": {},
   "outputs": [],
   "source": [
    "file.close()"
   ]
  },
  {
   "cell_type": "markdown",
   "metadata": {},
   "source": [
    "Same content and appending content changes"
   ]
  },
  {
   "cell_type": "code",
   "execution_count": 22,
   "metadata": {},
   "outputs": [],
   "source": [
    "file=open(\"sample.txt\",\"a+\") #here a+ means appending that is the things already written will be there and adding the nwe line"
   ]
  },
  {
   "cell_type": "code",
   "execution_count": 23,
   "metadata": {},
   "outputs": [
    {
     "data": {
      "text/plain": [
       "15"
      ]
     },
     "execution_count": 23,
     "metadata": {},
     "output_type": "execute_result"
    }
   ],
   "source": [
    "file.write(\"\\n How do you do\")"
   ]
  },
  {
   "cell_type": "code",
   "execution_count": 24,
   "metadata": {},
   "outputs": [],
   "source": [
    "file.close()"
   ]
  },
  {
   "cell_type": "markdown",
   "metadata": {},
   "source": [
    "To read a file"
   ]
  },
  {
   "cell_type": "code",
   "execution_count": 33,
   "metadata": {},
   "outputs": [
    {
     "data": {
      "text/plain": [
       "'This is my first line in the new file that I created \\n'"
      ]
     },
     "execution_count": 33,
     "metadata": {},
     "output_type": "execute_result"
    }
   ],
   "source": [
    "file_read=open(\"sample.txt\",\"r+\") #To open the file that we created for reading purpose\n",
    "file_read.readline()  #to print the first line of the file"
   ]
  },
  {
   "cell_type": "code",
   "execution_count": 35,
   "metadata": {},
   "outputs": [
    {
     "data": {
      "text/plain": [
       "[]"
      ]
     },
     "execution_count": 35,
     "metadata": {},
     "output_type": "execute_result"
    }
   ],
   "source": [
    "file_read.readlines() #to print the remaining lines in the file after reading first line. i.e., if we read the first line then when we run this only the remaining lines will be executed "
   ]
  },
  {
   "cell_type": "code",
   "execution_count": 31,
   "metadata": {},
   "outputs": [
    {
     "data": {
      "text/plain": [
       "['This is my first line in the new file that I created \\n',\n",
       " \" I'm very happy to do this\\n\",\n",
       " ' How do you do']"
      ]
     },
     "execution_count": 31,
     "metadata": {},
     "output_type": "execute_result"
    }
   ],
   "source": [
    "file_read=open(\"sample.txt\",\"r+\") #\n",
    "file_read.readlines() "
   ]
  },
  {
   "cell_type": "markdown",
   "metadata": {},
   "source": [
    "Write a function that accepts your details and save into a file"
   ]
  },
  {
   "cell_type": "code",
   "execution_count": 3,
   "metadata": {},
   "outputs": [
    {
     "name": "stdout",
     "output_type": "stream",
     "text": [
      "Name\t:\t:naveen\n",
      "\n",
      "Phone\t:\t:808971261\n",
      "\n",
      "Email\t:\t:naveen@gmai;l.com\n"
     ]
    }
   ],
   "source": [
    "def writeMyDetails(name,phone,email):\n",
    "    filename=name+\".txt\"\n",
    "    fileMyDetails=open(filename,\"a+\")\n",
    "    fileMyDetails.write(\"Name\\t:\\t:\"+name)\n",
    "    fileMyDetails.write(\"\\nPhone\\t:\\t:\"+str(phone))\n",
    "    fileMyDetails.write(\"\\nEmail\\t:\\t:\"+email)\n",
    "    fileMyDetails.close()\n",
    "    # return True\n",
    "name=input(\"Enter the name: \")\n",
    "phone=int(input(\"Enter the phone number: \"))\n",
    "email=input(\"Enter the Email: \")\n",
    "# ret=writeMyDetails(name,phone,email)\n",
    "# if ret:\n",
    "#     print(\"Your Deatils are saved.\")\n",
    "#     print(\"*\"*30)\n",
    "#     for line in open(name+\".txt\",\"r+\").readlines():\n",
    "#         print(line)\n",
    "#     print(\"*\"*30)\n",
    "# else:\n",
    "#     print(\"Some error has occured\")\n",
    "writeMyDetails(name,phone,email)\n",
    "file=open(name+\".txt\",\"r+\")\n",
    "file_lines=file.readlines()\n",
    "for line in file_lines:\n",
    "    print(line)"
   ]
  },
  {
   "cell_type": "markdown",
   "metadata": {},
   "source": [
    "with open(filename,\"W+\") as file:\n",
    "    file.write(\"jhfsjks\")\n",
    "# to open a file we can use the above syntax and the benefit of using this method is we dont need to close the folder."
   ]
  },
  {
   "cell_type": "code",
   "execution_count": 5,
   "metadata": {},
   "outputs": [],
   "source": [
    "with open(\"orders.txt\",\"a+\") as file:\n",
    "    itemname=input(\"item name\")\n",
    "    qty=input(\"Quantity\")\n",
    "    price=input(\"Price\")\n",
    "    str_to_save=itemname+\",\"+qty+\",\"+price+\"\\n\"\n",
    "    file.write(str_to_save)"
   ]
  },
  {
   "cell_type": "code",
   "execution_count": 7,
   "metadata": {},
   "outputs": [
    {
     "name": "stdout",
     "output_type": "stream",
     "text": [
      "['biriyani', '2', '300']\n"
     ]
    }
   ],
   "source": [
    "for line in open(\"orders.txt\").readlines():\n",
    "    orderDetails=line.strip().split(',') #to get the output as a list\n",
    "    print(orderDetails)"
   ]
  },
  {
   "cell_type": "code",
   "execution_count": null,
   "metadata": {},
   "outputs": [],
   "source": []
  }
 ],
 "metadata": {
  "kernelspec": {
   "display_name": "Python 3",
   "language": "python",
   "name": "python3"
  },
  "language_info": {
   "codemirror_mode": {
    "name": "ipython",
    "version": 3
   },
   "file_extension": ".py",
   "mimetype": "text/x-python",
   "name": "python",
   "nbconvert_exporter": "python",
   "pygments_lexer": "ipython3",
   "version": "3.10.11"
  },
  "orig_nbformat": 4
 },
 "nbformat": 4,
 "nbformat_minor": 2
}
