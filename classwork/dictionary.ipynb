{
 "cells": [
  {
   "cell_type": "code",
   "execution_count": 1,
   "metadata": {},
   "outputs": [],
   "source": [
    "sample = {\n",
    "    \"Name\":\"Lenovo\",\n",
    "    \"RAM\": 8,\n",
    "    \"HDD\": 256,\n",
    "    \"OS\": \"Windows\",\n",
    "    \"Waranty\": False\n",
    "}"
   ]
  },
  {
   "cell_type": "code",
   "execution_count": 2,
   "metadata": {},
   "outputs": [
    {
     "name": "stdout",
     "output_type": "stream",
     "text": [
      "{'Name': 'Lenovo', 'RAM': 8, 'HDD': 256, 'OS': 'Windows', 'Waranty': False}\n"
     ]
    }
   ],
   "source": [
    "print(sample)"
   ]
  },
  {
   "cell_type": "code",
   "execution_count": 3,
   "metadata": {},
   "outputs": [
    {
     "data": {
      "text/plain": [
       "8"
      ]
     },
     "execution_count": 3,
     "metadata": {},
     "output_type": "execute_result"
    }
   ],
   "source": [
    "sample['RAM']"
   ]
  },
  {
   "cell_type": "code",
   "execution_count": 4,
   "metadata": {},
   "outputs": [
    {
     "data": {
      "text/plain": [
       "{'Name': 'Lenovo',\n",
       " 'RAM': 8,\n",
       " 'HDD': 256,\n",
       " 'OS': 'Windows',\n",
       " 'Waranty': False,\n",
       " 'YearofMfg': 2021}"
      ]
     },
     "execution_count": 4,
     "metadata": {},
     "output_type": "execute_result"
    }
   ],
   "source": [
    "sample['YearofMfg'] = 2021\n",
    "sample"
   ]
  },
  {
   "cell_type": "code",
   "execution_count": 5,
   "metadata": {},
   "outputs": [
    {
     "data": {
      "text/plain": [
       "{'Name': 'Lenovo',\n",
       " 'RAM': 8,\n",
       " 'HDD': 256,\n",
       " 'OS': 'Windows',\n",
       " 'Waranty': False,\n",
       " 'YearofMfg': 2021,\n",
       " 'mfg': ['India', 'China'],\n",
       " 'shipment': {'Start': 'Delhi', 'End': 'Lavasa'}}"
      ]
     },
     "execution_count": 5,
     "metadata": {},
     "output_type": "execute_result"
    }
   ],
   "source": [
    "sample['mfg'] = [\"India\",\"China\"]\n",
    "sample['shipment'] = {\n",
    "    \"Start\" : \"Delhi\",\n",
    "    \"End\": \"Lavasa\"\n",
    "}\n",
    "sample"
   ]
  },
  {
   "cell_type": "code",
   "execution_count": 19,
   "metadata": {},
   "outputs": [
    {
     "name": "stdout",
     "output_type": "stream",
     "text": [
      "Lenavo\n",
      "8\n",
      "256\n",
      "Windows\n",
      "False\n",
      "2021\n",
      "['India', 'China']\n",
      "{'Start': 'Delhi', 'End': 'Lavasa'}\n"
     ]
    }
   ],
   "source": [
    "for item in sample.values(): #keys() or values()\n",
    "    # print(sample[item])\n",
    "    print(item)"
   ]
  },
  {
   "cell_type": "code",
   "execution_count": 20,
   "metadata": {},
   "outputs": [
    {
     "data": {
      "text/plain": [
       "{'Name': 'Lenavo',\n",
       " 'RAM': 8,\n",
       " 'HDD': 256,\n",
       " 'OS': 'Windows',\n",
       " 'Waranty': False,\n",
       " 'YearofMfg': 2021,\n",
       " 'mfg': ['India', 'China'],\n",
       " 'shipment': {'Start': 'Delhi', 'End': 'Lavasa'}}"
      ]
     },
     "execution_count": 20,
     "metadata": {},
     "output_type": "execute_result"
    }
   ],
   "source": [
    "sample"
   ]
  },
  {
   "cell_type": "code",
   "execution_count": 23,
   "metadata": {},
   "outputs": [
    {
     "data": {
      "text/plain": [
       "'China'"
      ]
     },
     "execution_count": 23,
     "metadata": {},
     "output_type": "execute_result"
    }
   ],
   "source": [
    "sample['mfg'][1]"
   ]
  },
  {
   "cell_type": "code",
   "execution_count": 24,
   "metadata": {},
   "outputs": [
    {
     "data": {
      "text/plain": [
       "'Lavasa'"
      ]
     },
     "execution_count": 24,
     "metadata": {},
     "output_type": "execute_result"
    }
   ],
   "source": [
    "sample['shipment']['End']"
   ]
  },
  {
   "cell_type": "code",
   "execution_count": null,
   "metadata": {},
   "outputs": [],
   "source": []
  }
 ],
 "metadata": {
  "kernelspec": {
   "display_name": "Python 3",
   "language": "python",
   "name": "python3"
  },
  "language_info": {
   "codemirror_mode": {
    "name": "ipython",
    "version": 3
   },
   "file_extension": ".py",
   "mimetype": "text/x-python",
   "name": "python",
   "nbconvert_exporter": "python",
   "pygments_lexer": "ipython3",
   "version": "3.10.11"
  },
  "orig_nbformat": 4
 },
 "nbformat": 4,
 "nbformat_minor": 2
}
