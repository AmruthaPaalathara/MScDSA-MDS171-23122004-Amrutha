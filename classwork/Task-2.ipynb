{
 "cells": [
  {
   "cell_type": "markdown",
   "metadata": {},
   "source": [
    "Write a python programme with the following specification:\n",
    "\n",
    "1.There will be a function named create dataset which will take a dictionary,file name,no.of rows as arguments.\n",
    "\n",
    "2.The dictionary is having the following structure:\n",
    "\n",
    "            {\n",
    "                \"Column\":[domain of values]\n",
    "                \n",
    "             }\n",
    "\n",
    "3.Your function will select random values for each of the domains and create a row for you.The no.of rows that has to be created is a parameter.\n",
    "\n",
    "4.Save the file with the required no.of rows.\n",
    "\n",
    "5.Load this dataset using pandas and display basic information(shape,size,type,no.of columns,no.of rows,column name,...)"
   ]
  },
  {
   "cell_type": "code",
   "execution_count": 2,
   "metadata": {},
   "outputs": [],
   "source": [
    "import random\n",
    "shop={\n",
    "        \"Items\":[\"Laptop\",\"Smart Phone\",\"Nail Polish\",\"Burger\",\"Pizza\"],\n",
    "        \"Price\":[75000,25000,100,55,200],\n",
    "        \"Quantity\":[5,15,50,5,10],\n",
    "        \"Websites\":[\"Amazon\",\"Flipkart\",\"Swiggy\",\"Nykaa\",\"Zomato\"],\n",
    "        \"Discount\":[10,1,5,15,20],\n",
    "        \"Grand Total\":[75000,25100,255,75300,25300],\n",
    "        \"Offer\":[\"Today's deal\",\"Great Indian Festival\",\"Deepavali\",\"Onam\",\"Xmas\"]\n",
    "}\n",
    "\n",
    "def creatDataset(dict1,filename,rows):\n",
    "    file=open(\"Customize.csv\",\"w+\")\n",
    "    file.write(\"Randomized orders\")\n",
    "    file.close()\n",
    "    file=open(\"Customize.csv\",\"a+\")\n",
    "    res=key ,val=random.choice(list(shop.items()))\n",
    "    file.write(res,val)\n",
    "    file.close()\n",
    "\n"
   ]
  },
  {
   "cell_type": "code",
   "execution_count": null,
   "metadata": {},
   "outputs": [],
   "source": []
  }
 ],
 "metadata": {
  "kernelspec": {
   "display_name": "Python 3",
   "language": "python",
   "name": "python3"
  },
  "language_info": {
   "codemirror_mode": {
    "name": "ipython",
    "version": 3
   },
   "file_extension": ".py",
   "mimetype": "text/x-python",
   "name": "python",
   "nbconvert_exporter": "python",
   "pygments_lexer": "ipython3",
   "version": "3.10.11"
  }
 },
 "nbformat": 4,
 "nbformat_minor": 2
}
